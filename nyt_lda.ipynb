{
 "cells": [
  {
   "cell_type": "code",
   "execution_count": 1,
   "metadata": {
    "colab": {
     "base_uri": "https://localhost:8080/"
    },
    "id": "qyCYYXIH4GfC",
    "outputId": "62c4720a-e5ac-45e3-ac86-628d0dcc5878"
   },
   "outputs": [
    {
     "name": "stderr",
     "output_type": "stream",
     "text": [
      "[nltk_data] Downloading package stopwords to\n",
      "[nltk_data]     /Users/sketcha/nltk_data...\n",
      "[nltk_data]   Package stopwords is already up-to-date!\n"
     ]
    }
   ],
   "source": [
    "import numpy as np\n",
    "import pandas as pd\n",
    "import gensim\n",
    "import matplotlib.pyplot as plt\n",
    "\n",
    "import nltk\n",
    "from nltk.corpus import stopwords\n",
    "from nltk.stem import WordNetLemmatizer\n",
    "from nltk.tokenize import sent_tokenize, word_tokenize\n",
    "import re\n",
    "\n",
    "nltk.download('stopwords')\n",
    "# !pip install -U gensim\n",
    "# !pip install pyLDAvis\n",
    "stopwords = stopwords.words('english')\n",
    "nltk.download('wordnet')"
   ]
  },
  {
   "cell_type": "code",
   "execution_count": 3,
   "metadata": {
    "colab": {
     "base_uri": "https://localhost:8080/",
     "height": 357
    },
    "collapsed": true,
    "id": "hvjEPhiH4hUF",
    "jupyter": {
     "outputs_hidden": true
    },
    "outputId": "76c67773-87c5-4756-83f1-bdd50b928da1",
    "tags": []
   },
   "outputs": [
    {
     "name": "stdout",
     "output_type": "stream",
     "text": [
      "Original Number of Columns: 23, rows: 19927\n",
      "(19743, 3)\n",
      "After droping duplicate rows and unneccesary columns\n",
      " Number of Columns: 3        , rows: 19742\n"
     ]
    },
    {
     "data": {
      "text/html": [
       "<div>\n",
       "<style scoped>\n",
       "    .dataframe tbody tr th:only-of-type {\n",
       "        vertical-align: middle;\n",
       "    }\n",
       "\n",
       "    .dataframe tbody tr th {\n",
       "        vertical-align: top;\n",
       "    }\n",
       "\n",
       "    .dataframe thead th {\n",
       "        text-align: right;\n",
       "    }\n",
       "</style>\n",
       "<table border=\"1\" class=\"dataframe\">\n",
       "  <thead>\n",
       "    <tr style=\"text-align: right;\">\n",
       "      <th></th>\n",
       "      <th>pub_date</th>\n",
       "      <th>web_url</th>\n",
       "      <th>content</th>\n",
       "    </tr>\n",
       "  </thead>\n",
       "  <tbody>\n",
       "    <tr>\n",
       "      <th>0</th>\n",
       "      <td>2020-03-01T20:00:06+0000</td>\n",
       "      <td>https://www.nytimes.com/2020/03/01/opinion/cor...</td>\n",
       "      <td>Advertisement Supported by We need to be on gu...</td>\n",
       "    </tr>\n",
       "    <tr>\n",
       "      <th>1</th>\n",
       "      <td>2020-03-01T16:58:17+0000</td>\n",
       "      <td>https://www.nytimes.com/2020/03/01/upshot/coro...</td>\n",
       "      <td>Advertisement Supported by A sick day? Remote ...</td>\n",
       "    </tr>\n",
       "    <tr>\n",
       "      <th>2</th>\n",
       "      <td>2020-03-01T18:10:26+0000</td>\n",
       "      <td>https://www.nytimes.com/2020/03/01/health/coro...</td>\n",
       "      <td>Advertisement Supported by Two cases detected ...</td>\n",
       "    </tr>\n",
       "    <tr>\n",
       "      <th>3</th>\n",
       "      <td>2020-03-01T04:04:45+0000</td>\n",
       "      <td>https://www.nytimes.com/2020/02/29/us/trump-co...</td>\n",
       "      <td>Advertisement Supported by President Trump fou...</td>\n",
       "    </tr>\n",
       "    <tr>\n",
       "      <th>4</th>\n",
       "      <td>2020-03-01T12:00:08+0000</td>\n",
       "      <td>https://www.nytimes.com/2020/03/01/business/th...</td>\n",
       "      <td>Advertisement Supported by with interest By Da...</td>\n",
       "    </tr>\n",
       "  </tbody>\n",
       "</table>\n",
       "</div>"
      ],
      "text/plain": [
       "                   pub_date  \\\n",
       "0  2020-03-01T20:00:06+0000   \n",
       "1  2020-03-01T16:58:17+0000   \n",
       "2  2020-03-01T18:10:26+0000   \n",
       "3  2020-03-01T04:04:45+0000   \n",
       "4  2020-03-01T12:00:08+0000   \n",
       "\n",
       "                                             web_url  \\\n",
       "0  https://www.nytimes.com/2020/03/01/opinion/cor...   \n",
       "1  https://www.nytimes.com/2020/03/01/upshot/coro...   \n",
       "2  https://www.nytimes.com/2020/03/01/health/coro...   \n",
       "3  https://www.nytimes.com/2020/02/29/us/trump-co...   \n",
       "4  https://www.nytimes.com/2020/03/01/business/th...   \n",
       "\n",
       "                                             content  \n",
       "0  Advertisement Supported by We need to be on gu...  \n",
       "1  Advertisement Supported by A sick day? Remote ...  \n",
       "2  Advertisement Supported by Two cases detected ...  \n",
       "3  Advertisement Supported by President Trump fou...  \n",
       "4  Advertisement Supported by with interest By Da...  "
      ]
     },
     "execution_count": 3,
     "metadata": {},
     "output_type": "execute_result"
    }
   ],
   "source": [
    "# Loading the datasets\n",
    "\n",
    "nyt_df = pd.read_csv('/Users/sketcha/lda/nyt.csv', sep=',')\n",
    "print('Original Number of Columns: {}, rows: {}'.format(nyt_df.shape[1], nyt_df.shape[0]) )\n",
    "\n",
    "columns = ['pub_date', 'web_url','content']\n",
    "nyt_df = nyt_df[columns]\n",
    "nyt_df.drop_duplicates(subset =\"content\", inplace = True)\n",
    "\n",
    "print(nyt_df.shape)\n",
    "nyt_df.dropna(inplace=True)\n",
    "\n",
    "nyt_df.head()"
   ]
  },
  {
   "cell_type": "markdown",
   "metadata": {},
   "source": [
    "**Pre-processing**"
   ]
  },
  {
   "cell_type": "code",
   "execution_count": 4,
   "metadata": {
    "colab": {
     "base_uri": "https://localhost:8080/",
     "height": 374
    },
    "collapsed": true,
    "id": "77W3e7GO6s-x",
    "jupyter": {
     "outputs_hidden": true
    },
    "outputId": "91c484a9-1b31-4f21-d856-755f64f88203",
    "tags": []
   },
   "outputs": [
    {
     "name": "stdout",
     "output_type": "stream",
     "text": [
      "After Removing Opinion articles, rows are reduced to :  19742\n"
     ]
    },
    {
     "data": {
      "text/html": [
       "<div>\n",
       "<style scoped>\n",
       "    .dataframe tbody tr th:only-of-type {\n",
       "        vertical-align: middle;\n",
       "    }\n",
       "\n",
       "    .dataframe tbody tr th {\n",
       "        vertical-align: top;\n",
       "    }\n",
       "\n",
       "    .dataframe thead th {\n",
       "        text-align: right;\n",
       "    }\n",
       "</style>\n",
       "<table border=\"1\" class=\"dataframe\">\n",
       "  <thead>\n",
       "    <tr style=\"text-align: right;\">\n",
       "      <th></th>\n",
       "      <th>pub_date</th>\n",
       "      <th>web_url</th>\n",
       "      <th>content</th>\n",
       "      <th>post_processed</th>\n",
       "    </tr>\n",
       "  </thead>\n",
       "  <tbody>\n",
       "    <tr>\n",
       "      <th>0</th>\n",
       "      <td>2020-03-01T20:00:06+0000</td>\n",
       "      <td>https://www.nytimes.com/2020/03/01/opinion/cor...</td>\n",
       "      <td>Advertisement Supported by We need to be on gu...</td>\n",
       "      <td></td>\n",
       "    </tr>\n",
       "    <tr>\n",
       "      <th>1</th>\n",
       "      <td>2020-03-01T16:58:17+0000</td>\n",
       "      <td>https://www.nytimes.com/2020/03/01/upshot/coro...</td>\n",
       "      <td>Advertisement Supported by A sick day? Remote ...</td>\n",
       "      <td>sick day remote work easy job day care center ...</td>\n",
       "    </tr>\n",
       "    <tr>\n",
       "      <th>2</th>\n",
       "      <td>2020-03-01T18:10:26+0000</td>\n",
       "      <td>https://www.nytimes.com/2020/03/01/health/coro...</td>\n",
       "      <td>Advertisement Supported by Two cases detected ...</td>\n",
       "      <td>two case detected week apart washington state ...</td>\n",
       "    </tr>\n",
       "    <tr>\n",
       "      <th>3</th>\n",
       "      <td>2020-03-01T04:04:45+0000</td>\n",
       "      <td>https://www.nytimes.com/2020/02/29/us/trump-co...</td>\n",
       "      <td>Advertisement Supported by President Trump fou...</td>\n",
       "      <td>president trump found veering message discussi...</td>\n",
       "    </tr>\n",
       "    <tr>\n",
       "      <th>4</th>\n",
       "      <td>2020-03-01T12:00:08+0000</td>\n",
       "      <td>https://www.nytimes.com/2020/03/01/business/th...</td>\n",
       "      <td>Advertisement Supported by with interest By Da...</td>\n",
       "      <td>interest david going tax week said it maybe ac...</td>\n",
       "    </tr>\n",
       "  </tbody>\n",
       "</table>\n",
       "</div>"
      ],
      "text/plain": [
       "                   pub_date  \\\n",
       "0  2020-03-01T20:00:06+0000   \n",
       "1  2020-03-01T16:58:17+0000   \n",
       "2  2020-03-01T18:10:26+0000   \n",
       "3  2020-03-01T04:04:45+0000   \n",
       "4  2020-03-01T12:00:08+0000   \n",
       "\n",
       "                                             web_url  \\\n",
       "0  https://www.nytimes.com/2020/03/01/opinion/cor...   \n",
       "1  https://www.nytimes.com/2020/03/01/upshot/coro...   \n",
       "2  https://www.nytimes.com/2020/03/01/health/coro...   \n",
       "3  https://www.nytimes.com/2020/02/29/us/trump-co...   \n",
       "4  https://www.nytimes.com/2020/03/01/business/th...   \n",
       "\n",
       "                                             content  \\\n",
       "0  Advertisement Supported by We need to be on gu...   \n",
       "1  Advertisement Supported by A sick day? Remote ...   \n",
       "2  Advertisement Supported by Two cases detected ...   \n",
       "3  Advertisement Supported by President Trump fou...   \n",
       "4  Advertisement Supported by with interest By Da...   \n",
       "\n",
       "                                      post_processed  \n",
       "0                                                     \n",
       "1  sick day remote work easy job day care center ...  \n",
       "2  two case detected week apart washington state ...  \n",
       "3  president trump found veering message discussi...  \n",
       "4  interest david going tax week said it maybe ac...  "
      ]
     },
     "execution_count": 4,
     "metadata": {},
     "output_type": "execute_result"
    }
   ],
   "source": [
    "# Pre-processing steps\n",
    "\n",
    "%timeit\n",
    "# initalizing the werdnet lemmatizer\n",
    "lm = WordNetLemmatizer()\n",
    "# creating a new column to store rows after processing\n",
    "nyt_df['post_processed'] = ''\n",
    "\n",
    "stopwords.extend(['advertisement', 'supported'])\n",
    "# stopwords.extend(['rt'])\n",
    "def processing(content):\n",
    "\n",
    "    content = content.split(' ')\n",
    "#     removing stopwords\n",
    "    content = [word.strip().lower() for word in content if word.lower() not in stopwords]\n",
    "#     removing punctuations\n",
    "    rx = re.compile('([&#.:?!-()])*')\n",
    "    content = [rx.sub('', word) for word in content]\n",
    "    \n",
    "    content = [word for word in content if len(word)>1 and word.isalpha()]\n",
    "#   lemmatizing  \n",
    "    content = [lm.lemmatize(word) for word in content]\n",
    "\n",
    "    return ' '.join(content)\n",
    "\n",
    "# removing opinion articles\n",
    "for i in range(len(nyt_df)):\n",
    "    if 'opinion' not in nyt_df.iloc[i,1]:\n",
    "        nyt_df.iloc[i,-1] = processing(nyt_df.iloc[i,2])\n",
    "        \n",
    "\n",
    "nyt_df.dropna(inplace=True)\n",
    "nyt_df.head()"
   ]
  },
  {
   "cell_type": "code",
   "execution_count": 6,
   "metadata": {
    "colab": {
     "base_uri": "https://localhost:8080/"
    },
    "id": "SLs1P4XpDamm",
    "outputId": "c847cbca-bae8-4cad-a49d-4cd6edf68b3e"
   },
   "outputs": [
    {
     "name": "stdout",
     "output_type": "stream",
     "text": [
      "Unique words before filtering 97389\n",
      "Unique words after filtering 18942\n"
     ]
    }
   ],
   "source": [
    "# Frequency filtering\n",
    "\n",
    "import gensim.corpora as corpora\n",
    "#decomposing sentences into tokens \n",
    "tokens = [sentence.split(' ') for sentence in nyt_df['post_processed'] ]\n",
    "\n",
    "# Create Dictionary\n",
    "dct = corpora.Dictionary(tokens)\n",
    "print('Unique words before filtering', len(dct))\n",
    "# no_below= 20\n",
    "dct.filter_extremes(no_below= 20, no_above=0.25 )\n",
    "print('Unique words after filtering', len(dct))\n",
    "# Create Corpus\n",
    "corpus = [dct.doc2bow(token) for token in tokens]"
   ]
  },
  {
   "cell_type": "markdown",
   "metadata": {},
   "source": [
    "**Coherence**"
   ]
  },
  {
   "cell_type": "code",
   "execution_count": 54,
   "metadata": {
    "colab": {
     "base_uri": "https://localhost:8080/"
    },
    "collapsed": true,
    "id": "ngn-GXKMQvtx",
    "jupyter": {
     "outputs_hidden": true
    },
    "outputId": "f1739610-dd28-4e53-97e6-1abe74a76ad2",
    "tags": []
   },
   "outputs": [
    {
     "name": "stderr",
     "output_type": "stream",
     "text": [
      "/Users/sketcha/opt/anaconda3/lib/python3.8/site-packages/ipykernel/ipkernel.py:287: DeprecationWarning: `should_run_async` will not call `transform_cell` automatically in the future. Please pass the result to `transformed_cell` argument and any exception that happen during thetransform in `preprocessing_exc_tuple` in IPython 7.17 and above.\n",
      "  and should_run_async(code)\n"
     ]
    },
    {
     "name": "stdout",
     "output_type": "stream",
     "text": [
      "coherence_lda 0.3905385827917625\n",
      "coherence_lda 0.42011767992460114\n",
      "coherence_lda 0.5312530167309598\n",
      "coherence_lda 0.5262512555115642\n",
      "coherence_lda 0.586540750732282\n",
      "coherence_lda 0.5543499249735379\n",
      "coherence_lda 0.5607998230814732\n",
      "coherence_lda 0.5756459287595258\n",
      "coherence_lda 0.5704903576353162\n",
      "coherence_lda 0.5950065333781465\n",
      "coherence_lda 0.5940690305940548\n",
      "coherence_lda 0.5897205717445254\n",
      "coherence_lda 0.60746961451111\n",
      "coherence_lda 0.6112888276498991\n",
      "coherence_lda 0.6055434125009568\n",
      "coherence_lda 0.6087633703999652\n",
      "coherence_lda 0.6104301692807593\n",
      "coherence_lda 0.6127430568690928\n",
      "coherence_lda 0.608020258524658\n",
      "coherence_lda 0.602649221245884\n",
      "coherence_lda 0.6205021924187988\n",
      "coherence_lda 0.5988912579203806\n",
      "coherence_lda 0.5998985509966611\n",
      "coherence_lda 0.5979047172432472\n",
      "coherence_lda 0.6017811352132345\n"
     ]
    }
   ],
   "source": [
    "# Obtaining coherence results\n",
    "\n",
    "from gensim.models import CoherenceModel\n",
    "\n",
    "scores = []\n",
    "for k in range(1,26):\n",
    "  lda_model = gensim.models.LdaModel(corpus=corpus, id2word=dct, num_topics=k, \n",
    "                                       random_state=100, chunksize=128, passes=10,\n",
    "                                       per_word_topics=True)\n",
    "\n",
    "  coherence_model_lda = CoherenceModel(model=lda_model, texts=tokens, dictionary=dct, coherence='c_v')\n",
    "  coherence_lda = coherence_model_lda.get_coherence()\n",
    "  print( 'coherence_lda', coherence_lda)\n",
    "\n",
    "  scores.append(coherence_lda)"
   ]
  },
  {
   "cell_type": "code",
   "execution_count": 59,
   "metadata": {
    "colab": {
     "base_uri": "https://localhost:8080/",
     "height": 296
    },
    "collapsed": true,
    "id": "dabl6BAjRC6p",
    "jupyter": {
     "outputs_hidden": true
    },
    "outputId": "337bf0fd-b8d5-4cc3-ce39-dd075fef6ffe",
    "tags": []
   },
   "outputs": [
    {
     "name": "stderr",
     "output_type": "stream",
     "text": [
      "/Users/sketcha/opt/anaconda3/lib/python3.8/site-packages/ipykernel/ipkernel.py:287: DeprecationWarning: `should_run_async` will not call `transform_cell` automatically in the future. Please pass the result to `transformed_cell` argument and any exception that happen during thetransform in `preprocessing_exc_tuple` in IPython 7.17 and above.\n",
      "  and should_run_async(code)\n"
     ]
    },
    {
     "data": {
      "image/png": "[encoded data removed]",
      "text/plain": [
       "<Figure size 432x288 with 1 Axes>"
      ]
     },
     "metadata": {
      "needs_background": "light"
     },
     "output_type": "display_data"
    }
   ],
   "source": [
    "# Plotting coherence results\n",
    "\n",
    "selected_topics = np.argmax(scores)+3\n",
    "plt.plot(list(range(1,26)), scores, color= \"blue\")\n",
    "plt.xlabel('Number of topics')\n",
    "plt.ylabel('Coherence Scores')\n",
    "plt.savefig('nyt_coherence')"
   ]
  },
  {
   "cell_type": "markdown",
   "metadata": {
    "id": "XDeB5Vo0gIMf"
   },
   "source": [
    "<b> Final Model </b>"
   ]
  },
  {
   "cell_type": "code",
   "execution_count": 60,
   "metadata": {
    "id": "5uevekUUgGUo"
   },
   "outputs": [
    {
     "name": "stderr",
     "output_type": "stream",
     "text": [
      "/Users/sketcha/opt/anaconda3/lib/python3.8/site-packages/ipykernel/ipkernel.py:287: DeprecationWarning: `should_run_async` will not call `transform_cell` automatically in the future. Please pass the result to `transformed_cell` argument and any exception that happen during thetransform in `preprocessing_exc_tuple` in IPython 7.17 and above.\n",
      "  and should_run_async(code)\n"
     ]
    }
   ],
   "source": [
    "# constructing the lda model\n",
    "\n",
    "selected_topics= 6\n",
    "lda_model = gensim.models.LdaModel(corpus=corpus, id2word=dct, num_topics=selected_topics, \n",
    "                                           random_state=100, chunksize=128, passes=10 )"
   ]
  },
  {
   "cell_type": "code",
   "execution_count": 52,
   "metadata": {
    "tags": []
   },
   "outputs": [
    {
     "name": "stderr",
     "output_type": "stream",
     "text": [
      "/Users/sketcha/opt/anaconda3/lib/python3.8/site-packages/ipykernel/ipkernel.py:287: DeprecationWarning: `should_run_async` will not call `transform_cell` automatically in the future. Please pass the result to `transformed_cell` argument and any exception that happen during thetransform in `preprocessing_exc_tuple` in IPython 7.17 and above.\n",
      "  and should_run_async(code)\n"
     ]
    }
   ],
   "source": [
    "#save lda model \n",
    "lda_model.save(\"nyt.model\")"
   ]
  },
  {
   "cell_type": "markdown",
   "metadata": {},
   "source": [
    "**Visualization tool**"
   ]
  },
  {
   "cell_type": "code",
   "execution_count": 61,
   "metadata": {
    "colab": {
     "base_uri": "https://localhost:8080/",
     "height": 966
    },
    "collapsed": true,
    "id": "Z1JclQm5RRSm",
    "jupyter": {
     "outputs_hidden": true
    },
    "outputId": "28fc4b3c-c15d-4cbd-d96d-e788936e97b4",
    "tags": []
   },
   "outputs": [
    {
     "name": "stderr",
     "output_type": "stream",
     "text": [
      "/Users/sketcha/opt/anaconda3/lib/python3.8/site-packages/ipykernel/ipkernel.py:287: DeprecationWarning: `should_run_async` will not call `transform_cell` automatically in the future. Please pass the result to `transformed_cell` argument and any exception that happen during thetransform in `preprocessing_exc_tuple` in IPython 7.17 and above.\n",
      "  and should_run_async(code)\n"
     ]
    },
    {
     "data": {
      "text/html": [
       "\n",
       "<link rel=\"stylesheet\" type=\"text/css\" href=\"https://cdn.jsdelivr.net/gh/bmabey/pyLDAvis@3.3.1/pyLDAvis/js/ldavis.v1.0.0.css\">\n",
       "\n",
       "\n",
       "<div id=\"ldavis_el325452264679526842819655\"></div>\n",
       "<script type=\"text/javascript\">\n",
       "\n",
       "var ldavis_el325452264679526842819655_data = {\"mdsDat\": {\"x\": [0.14303501772302682, 0.2191736222756312, 0.042196067365572416, -0.03567500602446104, -0.12601242673681062, -0.24271727460295844], \"y\": [-0.0377237140418292, -0.1377427537169203, 0.20698751958942602, 0.15378701836742792, -0.10830557705445001, -0.07700249314365448], \"topics\": [1, 2, 3, 4, 5, 6], \"cluster\": [1, 1, 1, 1, 1, 1], \"Freq\": [22.21233048823609, 20.08221303906692, 18.63515077367991, 16.088832996558143, 12.94479570593792, 10.036676996521015]}, \"tinfo\": {\"Term\": [\"vaccine\", \"county\", \"dr\", \"biden\", \"mask\", \"dos\", \"republican\", \"vaccination\", \"student\", \"variant\", \"reported\", \"billion\", \"patient\", \"data\", \"hospital\", \"vaccinated\", \"test\", \"rate\", \"tax\", \"travel\", \"political\", \"child\", \"cuomo\", \"game\", \"resident\", \"positive\", \"medical\", \"economic\", \"market\", \"testing\", \"game\", \"player\", \"kid\", \"maybe\", \"league\", \"you\", \"me\", \"coach\", \"basketball\", \"football\", \"ok\", \"tournament\", \"mom\", \"tennis\", \"stadium\", \"baby\", \"emotional\", \"yes\", \"athlete\", \"nba\", \"nfl\", \"wonder\", \"herd\", \"championship\", \"baseball\", \"yeah\", \"interesting\", \"workout\", \"olympic\", \"playoff\", \"sport\", \"teach\", \"that\", \"learn\", \"super\", \"bubble\", \"parent\", \"feeling\", \"sleep\", \"tell\", \"season\", \"play\", \"fan\", \"team\", \"this\", \"child\", \"kind\", \"else\", \"got\", \"now\", \"playing\", \"thinking\", \"guy\", \"actually\", \"mother\", \"sort\", \"friend\", \"best\", \"someone\", \"talk\", \"sure\", \"experience\", \"thought\", \"always\", \"woman\", \"felt\", \"college\", \"hard\", \"student\", \"question\", \"big\", \"better\", \"covid\", \"point\", \"mean\", \"art\", \"theater\", \"music\", \"artist\", \"film\", \"museum\", \"fashion\", \"wedding\", \"song\", \"puzzle\", \"studio\", \"cultural\", \"farm\", \"african\", \"tree\", \"photograph\", \"bird\", \"native\", \"stringer\", \"village\", \"wine\", \"gallery\", \"thompson\", \"thanksgiving\", \"riot\", \"concert\", \"painting\", \"cooking\", \"musical\", \"musician\", \"movie\", \"actor\", \"audience\", \"italian\", \"wheeler\", \"snow\", \"park\", \"dance\", \"apartment\", \"died\", \"indoor\", \"book\", \"street\", \"east\", \"photo\", \"space\", \"performance\", \"lived\", \"black\", \"series\", \"born\", \"father\", \"became\", \"food\", \"town\", \"man\", \"restaurant\", \"moved\", \"known\", \"west\", \"live\", \"story\", \"worked\", \"living\", \"night\", \"whose\", \"went\", \"building\", \"biden\", \"republican\", \"political\", \"election\", \"vote\", \"democratic\", \"capitol\", \"conservative\", \"presidential\", \"voter\", \"accused\", \"impeachment\", \"supreme\", \"voted\", \"opposition\", \"supporter\", \"poll\", \"voting\", \"israeli\", \"ally\", \"allegation\", \"lawsuit\", \"conspiracy\", \"palestinian\", \"protester\", \"inauguration\", \"democracy\", \"troop\", \"coup\", \"myanmar\", \"senator\", \"prince\", \"campaign\", \"minister\", \"democrat\", \"senate\", \"court\", \"justice\", \"politics\", \"judge\", \"military\", \"donald\", \"obama\", \"investigation\", \"former\", \"white\", \"leader\", \"chinese\", \"party\", \"speech\", \"administration\", \"law\", \"china\", \"police\", \"protest\", \"nation\", \"power\", \"effort\", \"washington\", \"top\", \"policy\", \"office\", \"support\", \"issue\", \"federal\", \"billion\", \"revenue\", \"unemployment\", \"stock\", \"fund\", \"payment\", \"economist\", \"investor\", \"investment\", \"airline\", \"consumer\", \"\", \"loan\", \"debt\", \"equity\", \"recession\", \"cash\", \"sector\", \"fed\", \"fiscal\", \"employment\", \"fee\", \"profit\", \"inflation\", \"dealbook\", \"ceo\", \"retailer\", \"asset\", \"yellen\", \"mortgage\", \"tax\", \"income\", \"market\", \"price\", \"bank\", \"financial\", \"trillion\", \"stimulus\", \"wage\", \"insurance\", \"economy\", \"sale\", \"benefit\", \"economic\", \"package\", \"money\", \"cost\", \"industry\", \"pay\", \"program\", \"budget\", \"federal\", \"spending\", \"executive\", \"increase\", \"policy\", \"bill\", \"employee\", \"service\", \"deal\", \"chief\", \"blasio\", \"newsom\", \"gavin\", \"inmate\", \"correctional\", \"californian\", \"uc\", \"cowan\", \"albany\", \"farmworkers\", \"dental\", \"mardi\", \"superintendent\", \"gras\", \"sheriff\", \"bakersfield\", \"hasidic\", \"garcetti\", \"rochelle\", \"discharged\", \"overcrowded\", \"assemblyman\", \"nonresident\", \"judith\", \"mta\", \"raimondo\", \"mckinley\", \"wheelchair\", \"mihir\", \"javits\", \"county\", \"cuomo\", \"nonessential\", \"passenger\", \"caput\", \"traveler\", \"reopening\", \"tracey\", \"statewide\", \"eviction\", \"district\", \"mask\", \"gov\", \"resident\", \"reopen\", \"nursing\", \"california\", \"travel\", \"tested\", \"positive\", \"transportation\", \"average\", \"homeless\", \"restriction\", \"reported\", \"gathering\", \"daily\", \"wear\", \"mayor\", \"student\", \"flight\", \"per\", \"stay\", \"household\", \"rate\", \"testing\", \"outbreak\", \"area\", \"los\", \"test\", \"staff\", \"hospital\", \"community\", \"open\", \"infection\", \"avoid\", \"dos\", \"variant\", \"vaccinated\", \"pfizer\", \"moderna\", \"clinical\", \"unvaccinated\", \"mutation\", \"antibody\", \"protein\", \"vaccinate\", \"astrazeneca\", \"vaccinating\", \"fda\", \"inoculation\", \"undercounted\", \"laboratory\", \"laney\", \"probable\", \"methodology\", \"vial\", \"genetic\", \"genome\", \"immunization\", \"coronaviruses\", \"inoculated\", \"molecular\", \"sinovac\", \"sputnik\", \"covax\", \"vaccine\", \"cell\", \"immune\", \"vaccination\", \"dr\", \"dose\", \"efficacy\", \"patient\", \"researcher\", \"scientist\", \"drug\", \"disease\", \"doctor\", \"trial\", \"medical\", \"data\", \"shot\", \"study\", \"hospital\", \"expert\", \"johnson\", \"test\", \"population\", \"infection\", \"result\", \"level\", \"reported\", \"covid\", \"rate\"], \"Freq\": [39035.0, 19929.0, 17222.0, 17700.0, 14872.0, 9203.0, 12395.0, 9310.0, 15710.0, 8547.0, 14476.0, 9267.0, 7907.0, 12218.0, 11035.0, 6741.0, 11238.0, 13415.0, 8071.0, 10937.0, 8274.0, 14843.0, 6463.0, 8485.0, 8621.0, 8851.0, 7856.0, 8107.0, 6274.0, 7570.0, 8484.76788478762, 6386.1798359390195, 6089.700140746657, 2970.888249970631, 2851.6455377281923, 2843.872170412434, 2690.859049308374, 2246.5988301318075, 1743.1801514040874, 1557.255421614388, 1555.6731966744246, 1506.5856157384403, 1499.6967540471303, 1524.0188722404137, 1448.0439877016431, 1427.057424381167, 1245.6056411222842, 1225.0034685427738, 1186.8029886473923, 1132.7145566230918, 1076.2710489746291, 851.173994689616, 832.8262594147897, 789.611083218501, 760.9036552163928, 745.531896282352, 737.7775847430631, 762.0514183777407, 684.5244309206652, 676.4085062482213, 4407.694788241377, 1182.4485452264944, 3552.674404921208, 2482.074831418243, 2099.3461114562683, 1224.536105775098, 6212.220446541809, 3296.6388088058106, 1449.9859896712996, 4699.5649705048945, 4888.749925301046, 5780.876669350986, 3230.959700744081, 8329.527619808716, 1892.1437215107576, 11325.935722922792, 6086.546012745651, 2726.4590112087158, 7906.868115748415, 2684.7429390524267, 2959.200905567155, 2194.05173252713, 2048.075949372703, 3403.2918062298854, 4113.587140224095, 2569.534096491325, 5405.9240956721715, 5020.2200941112615, 4373.119669819273, 3925.3946737857173, 3796.153633827062, 3784.115544037949, 4310.876357954486, 4720.222226188261, 5476.123194212875, 4059.6545288719644, 4166.4827997400225, 4038.7066725974414, 6261.983415805259, 4564.51906463929, 4481.685192308779, 4068.7215055132456, 4554.630307637772, 4011.998413894398, 3913.2672600444043, 4776.95717807161, 3585.422198652705, 3442.1198793414896, 2949.361688149432, 2933.4502152376704, 2446.7059800667503, 1645.0388767262264, 1515.2701568738748, 1486.061974537802, 1342.1416773220542, 1313.9992309482482, 1180.9249080720735, 1144.9502849308635, 1177.3097328440053, 1124.3356475224905, 1073.159683186735, 1065.4912656288232, 1020.5378820605439, 1121.2281707093844, 1001.3928601771354, 964.0522609010776, 931.2081754589132, 933.3419803913628, 915.2347881063022, 960.7200077483674, 881.0242778739215, 827.434009269348, 813.9853851372727, 794.518767085744, 785.7102265054727, 3599.811832554612, 1375.9308104323668, 1791.2779146173077, 1210.9722554093353, 1205.7339347892114, 1496.7052463818998, 2490.5449934308203, 1229.9679647861165, 2526.628191171201, 5389.116919785677, 3731.2549342420984, 3744.396229446771, 3556.1296691073594, 2135.1993533348345, 1873.1408293836175, 3730.2790190845994, 2073.763179108582, 1715.0967714373187, 5500.317768020622, 2978.7622539075055, 1576.6917946661888, 1967.5510196467437, 3583.065142808904, 3475.491583496976, 2021.703363696938, 2290.4542105864207, 3094.080322727838, 2403.455782008262, 3006.549813884851, 2464.917260397296, 3031.552839183316, 2849.8565675219456, 2540.6901271919764, 2504.348145035062, 2471.482524135211, 2548.4708880541534, 2589.7138019941012, 2385.6332166889597, 17699.4206791725, 12394.868967682141, 8274.121762743072, 5744.719554673904, 4209.514041374183, 4105.375092853483, 3458.7485335491842, 2785.5443471658546, 2594.8351016043375, 2502.04455138264, 2096.3232419846777, 1912.8177796770315, 1593.9145649407128, 1579.2238963124025, 1561.5788072599644, 1495.8857928351902, 1483.3312129719036, 1242.7407060113767, 1228.5874318201702, 1156.4292808802222, 1158.8291542093527, 1151.5932305382646, 1100.9081256474974, 1073.0777716849475, 1040.291298775187, 1032.380259811871, 989.2979456343178, 930.4194490476316, 915.8217877924611, 905.454005279912, 5520.629904606738, 1048.4159133088735, 5019.073531476346, 2946.5145476148787, 6804.111004135924, 5365.318082894595, 5125.879635034126, 2564.738515166632, 2473.578133567435, 1880.976284992665, 3057.0026440466495, 3035.24041750784, 1478.0445306662634, 2189.5817433586103, 7926.813413474119, 7649.908897916211, 5683.746685252313, 3491.030168765706, 5476.638832622158, 2156.0837682075958, 6523.317664625351, 4360.997323232276, 3491.890466150918, 4376.305154483427, 2813.5707909795633, 3266.102536421656, 3659.9302261425314, 3953.739601972919, 3372.8406954704997, 3496.9922994248923, 3622.2106987818534, 3509.781187925615, 3437.544517779874, 3190.053646426463, 3252.165252495378, 9266.678995238262, 4024.3710005411463, 3753.5896717950736, 3397.6125469434414, 3290.751461038446, 3123.312161383747, 2907.69761231518, 2794.901748376491, 2561.492354410542, 3034.3341987256827, 2175.0305875775653, 2126.442414027044, 2102.463627611003, 1622.2653500173135, 1603.276734539628, 1449.2731408898376, 1374.3218028305685, 1325.1787984153727, 1227.326992542047, 1155.5603606418777, 1076.3077534551076, 1039.225023724036, 1028.8925748798245, 992.7857234835485, 829.9501253802539, 785.551794701695, 781.0033030627126, 730.6527974770152, 666.4290760856313, 655.9926773281885, 7983.603506076893, 2624.2519348041515, 6182.816041589501, 4706.041463074662, 3358.4511783872786, 4418.953656653572, 3269.1062998529123, 3828.633457702486, 3341.955779293194, 2026.793698035372, 5618.906596941464, 4171.159492537155, 4356.37063295906, 6810.7362037610765, 3842.000582644308, 5902.356012623646, 4092.9169823288166, 4468.549123554159, 4533.587838144923, 6297.55201635688, 2908.8558702695245, 7138.325944424316, 3822.6104013192435, 5042.325902289419, 4148.8598638481235, 4368.43054820365, 4070.7294987743917, 3639.701686776295, 3942.3837054918376, 3555.5614926941716, 3667.9565096645497, 1441.7608670862528, 1319.7425684318473, 899.4076588623404, 889.3547033931187, 826.095587334123, 679.3931292402887, 581.9259585733034, 496.3825126293474, 493.1875598702015, 951.3488638628006, 427.853384518923, 429.07183693979573, 397.60263964972967, 362.69255493358753, 293.66629407098424, 262.2447856644751, 263.93749521175744, 241.07605464406834, 247.09580014714692, 201.89499516119915, 171.58227498729843, 178.973415701238, 166.47826305207144, 171.1835565897248, 163.16066107815007, 182.54444259123522, 186.95322059031437, 167.82381834937385, 157.93852588950395, 159.74930085044372, 19624.37595049312, 6376.772190631389, 1623.7490502288676, 2532.149808766256, 510.59796439214756, 1622.1177375886753, 2717.3004387219166, 597.7813989405576, 859.5264490635753, 713.2398010169095, 4751.866345167667, 11940.93459709707, 3075.9944152467046, 6895.853512878345, 3025.70551871995, 4735.930334012305, 5704.508968821129, 8152.680996154043, 5097.168334617586, 6653.833441022934, 2438.3665682041897, 5926.684912499745, 1482.3196118540725, 4752.544227175292, 9800.706088463483, 2932.890515769457, 6129.573840586672, 4594.233097540641, 2731.6516404055274, 9448.001072228586, 2551.4990599415805, 5517.639341146473, 5461.051231847839, 4093.952011450547, 7387.2332909952775, 4665.98401605966, 3175.998669222774, 4345.586439861886, 3791.0787262655904, 5632.594248096854, 3986.721257642339, 4653.922806222968, 4403.019009681964, 4040.5006681107457, 3568.2360058136037, 3353.4036296448935, 9203.042861923135, 8546.855617177835, 6740.336268713668, 2895.7295719955205, 2395.2453185211803, 2234.9203453966, 2252.960353510899, 1856.1998234437458, 1680.136325833755, 1465.9279345164339, 1422.799422868512, 1350.1497645683655, 1142.9771324788132, 1147.3934517462665, 1029.4552416487622, 1135.402237705711, 804.016937656513, 780.6290744614466, 719.3916267892956, 704.8676596133397, 672.3128777007917, 644.582107722693, 595.5704173369877, 552.2986235340716, 511.157495917674, 505.136506205776, 478.8981577726069, 470.5560868412935, 436.46883613360933, 437.5441922508565, 37880.54777320157, 2538.919425325859, 1648.7423311825119, 9038.519250776904, 16284.053957670072, 2903.226345480986, 1304.1780326930166, 7345.191997534705, 3058.0700922794304, 3184.2308593980574, 2902.6399425205154, 4891.96328343794, 3525.206332305217, 4291.57777846974, 5358.689095206291, 7118.253154917697, 4722.663421075592, 3991.6587644125843, 5844.314338944438, 5035.969069371989, 3101.8531724200893, 4810.7347238276, 3589.445529913059, 3222.2166404024397, 3132.049068150261, 3001.9703973731334, 3329.2411900181364, 3037.636935833642, 3070.4920048541217], \"Total\": [39035.0, 19929.0, 17222.0, 17700.0, 14872.0, 9203.0, 12395.0, 9310.0, 15710.0, 8547.0, 14476.0, 9267.0, 7907.0, 12218.0, 11035.0, 6741.0, 11238.0, 13415.0, 8071.0, 10937.0, 8274.0, 14843.0, 6463.0, 8485.0, 8621.0, 8851.0, 7856.0, 8107.0, 6274.0, 7570.0, 8485.631557177683, 6387.043664616155, 6090.566003942504, 2971.7549422707366, 2852.509262873864, 2844.7433884025054, 2691.7242126637784, 2247.4613579260413, 1744.0588195655716, 1558.1180354529688, 1556.541867173251, 1507.449682470304, 1500.5612192355331, 1524.9006528139166, 1448.9167642012528, 1427.9295640686664, 1246.4724642474612, 1225.870565454042, 1187.6672127836234, 1133.5769887539434, 1077.1327876785263, 852.0417653738582, 833.7213720540532, 790.4737261347551, 761.7703116639512, 746.394026229637, 738.6435494654112, 762.9666353280829, 685.3933917020545, 677.2695645992319, 4446.085117245573, 1184.4795423705414, 3654.8984824698696, 2567.3005465919473, 2163.69017770212, 1243.1159877531923, 6673.240393482727, 3485.0703733790597, 1481.522266376343, 5046.771451611929, 5299.419335908101, 6441.135940930779, 3526.638370897299, 10258.88589373197, 1986.4083111715522, 14843.10790073869, 7414.218161774768, 3007.448217612198, 10209.266383677033, 2955.5514148172615, 3381.6372434781683, 2370.854635274653, 2187.21178298542, 4131.71840522457, 5287.051443191729, 2923.513548456846, 7618.542170235528, 7187.212069711904, 5968.829183551753, 5232.348174028751, 4993.1589681344, 5030.330164639213, 6175.86664713407, 7257.0681800527145, 9273.211152937893, 5678.16498319953, 5947.127111282093, 5929.249373113028, 15710.643330480707, 8088.720132743469, 8481.310387072177, 6743.772363171214, 9884.781833845307, 6987.398338626312, 7439.8494051677035, 4777.837398275759, 3586.303232193579, 3442.999585882133, 2950.240151345048, 2934.3287367669623, 2447.5867281755004, 1645.9195339459025, 1516.1509966906046, 1486.9404318186364, 1343.0274278011507, 1314.8791814369513, 1181.8073734166244, 1145.8392121100155, 1178.2255735596189, 1125.2193918310631, 1074.040642241096, 1066.371876436765, 1021.4277996093468, 1122.2075665664856, 1002.2736869632024, 964.9313504730083, 932.0867586768783, 934.2287662414581, 916.1191111897908, 961.6520610284196, 881.9061594835082, 828.3148393532969, 814.8651700693407, 795.3991966675483, 786.588191023105, 3621.3893234295656, 1382.530735429738, 1819.631702837423, 1227.5862849577995, 1244.6400407795531, 1585.0991975042978, 2815.081265350719, 1281.3669469547754, 2937.547748550432, 7593.494422705353, 4884.621031526632, 4942.3719207694, 4720.050363207182, 2515.687403809946, 2145.2923983535256, 5201.418247437069, 2505.969671504096, 1989.7520908310246, 9903.67208253331, 4308.882624455239, 1785.9213386507126, 2453.7099282418794, 6445.192250008207, 6863.944425388927, 2759.5782057120214, 3465.7078703479506, 6082.672101017914, 3865.931966864997, 6280.713579350722, 4350.864256116334, 7456.268591961959, 6570.646961548583, 5042.756354733692, 4980.022213753796, 5217.57961431375, 5781.188867539178, 6906.701582996835, 5247.235774412733, 17700.295614128583, 12395.74108074726, 8274.998111575123, 5745.58994667481, 4210.385617382471, 4106.246767024779, 3459.6225121690422, 2786.4211086595, 2595.7068612597554, 2502.9142440668743, 2097.1987844697614, 1913.6958072288548, 1594.7879209336177, 1580.100124980261, 1562.4526363039602, 1496.7579474746217, 1484.2097528863142, 1243.6118904816813, 1229.4617489652226, 1157.3017780299663, 1159.705513403462, 1152.4718952012993, 1101.781063836308, 1073.951710591077, 1041.1634047171287, 1033.2535900715682, 990.1691620870359, 931.3003210378469, 916.6980421153403, 906.3326573892365, 5563.899123092054, 1049.457309651764, 5115.184964678026, 2996.6203210115145, 7061.006944966222, 5561.307076522389, 5321.12517565532, 2615.1846030815695, 2529.386632032229, 1909.1327939022274, 3210.389899392531, 3198.19393067691, 1506.3736657472082, 2328.9662455469866, 10155.78810394447, 9877.14813071488, 7087.787692597494, 4062.223429068767, 7106.400193382612, 2313.9993731815534, 9674.124390265004, 5945.0488761123115, 4413.681080363253, 6042.849849218144, 3291.724637801431, 4646.432073339072, 6200.108224004373, 7701.073924563934, 5608.5119196624955, 7075.242883696863, 8574.986278515153, 8400.135516101533, 7774.356280256238, 6155.532356496755, 12783.086134913086, 9267.548094676784, 4025.2409765923703, 3754.456748997651, 3398.4816904729882, 3291.62092989736, 3124.1791077051685, 2908.5633522341564, 2795.767522316609, 2562.3616846957852, 3035.4507304529857, 2175.8990098865224, 2127.3057878245313, 2103.329684442026, 1623.133397657293, 1604.1511597196952, 1450.139155092127, 1375.1965655050003, 1326.0486907929885, 1228.1943112918757, 1156.4273833692039, 1077.1766855881892, 1040.093413736901, 1029.7635174451175, 993.6507154058962, 830.8155520283706, 786.4197657836158, 781.8716722810008, 731.5219406505198, 667.2984374525448, 656.8617589272509, 8071.068121390209, 2633.2527234284294, 6274.606177159483, 4792.0372080044135, 3440.453901341303, 4595.999541585911, 3450.672951776541, 4075.754883248746, 3541.947448849879, 2093.1922985158585, 6359.246175453309, 4617.070308700964, 4922.352793768184, 8107.679976041926, 4293.29950193373, 6962.619910607664, 4685.33994966708, 5195.81506879668, 5431.831468794636, 8809.274922570343, 3220.9752380948307, 12783.086134913086, 4891.254069799047, 7937.228681970582, 6686.174014077641, 8574.986278515153, 7283.7054586137, 5352.591420495657, 9100.90555438708, 5536.626027813856, 7392.523240985365, 1442.606756631659, 1320.5848363901925, 900.2567951081837, 890.1980094792575, 826.9405951267371, 680.2374799466414, 582.7680830194065, 497.228754266344, 494.03983719456585, 953.095281653221, 428.7297040911434, 429.9525118875599, 398.44601722031695, 363.5798547048445, 294.50951093863193, 263.0855562719259, 264.7894171982391, 241.92435834513583, 247.96940319821942, 202.83433411725878, 172.42804211031944, 179.87873266883287, 167.32398827561346, 172.0597924605519, 164.00382191851676, 183.50574820231864, 187.94136357492508, 168.71103929666367, 158.78213452506463, 160.6047571199839, 19929.447301322794, 6463.026426433028, 1641.1004511438373, 2628.7196918163763, 524.702805290024, 1737.5009054032928, 2995.5004481537258, 629.9166868011769, 924.3846459195648, 759.7182031371508, 5630.857646483408, 14872.853462655557, 3610.5150569450034, 8621.276468868944, 3561.9512474598355, 5891.168499992303, 7214.226574844183, 10937.234884142314, 6589.440008435235, 8851.994403120405, 2943.4766185391773, 7899.156707713839, 1697.3280485056084, 6216.173969747236, 14476.543475428325, 3724.6396301788886, 8611.625943422068, 6247.630411904383, 3437.4746416452763, 15710.643330480707, 3227.9112603110148, 8405.510755205352, 8648.186272996547, 6028.712871490867, 13415.86895693772, 7570.983004729968, 4399.762076793558, 6900.467472262038, 5916.196206282855, 11238.79585028837, 6438.365537572174, 11035.486135834863, 10541.989437135315, 9437.9649741953, 6846.922501663834, 5893.393483006022, 9203.96424049754, 8547.785991040057, 6741.265050762527, 2896.6499521228507, 2396.1647410432497, 2235.840236463775, 2253.9207431360933, 1857.1237055998342, 1681.053062216668, 1466.8501427049985, 1423.7250792308278, 1351.0722543751133, 1143.9040838917888, 1148.3286475510263, 1030.3828699119556, 1136.5835681260908, 804.9379829033667, 781.6415288341032, 720.357277258788, 705.8201986224171, 673.2382927560249, 645.5023306812968, 596.4877200981891, 553.2202208927104, 512.0743826839597, 506.0698007677027, 479.8197587225627, 471.47816895342396, 437.39198790482453, 438.4732640901186, 39035.56639443355, 2562.443718090889, 1668.9411064023882, 9310.312371101396, 17222.124631975654, 2966.5810756120927, 1320.452124359159, 7907.578213309101, 3371.2207348243523, 3564.448758400206, 3274.5015598531686, 6185.326185340056, 4414.549259687949, 5633.156931338489, 7856.078117867008, 12218.245781146874, 7207.702728828057, 6214.6398238878555, 11035.486135834863, 9135.432851408823, 4525.678636622024, 11238.79585028837, 7055.798734392307, 6846.922501663834, 7136.993182277551, 8275.699880507149, 14476.543475428325, 9884.781833845307, 13415.86895693772], \"Category\": [\"Default\", \"Default\", \"Default\", \"Default\", \"Default\", \"Default\", \"Default\", \"Default\", \"Default\", \"Default\", \"Default\", \"Default\", \"Default\", \"Default\", \"Default\", \"Default\", \"Default\", \"Default\", \"Default\", \"Default\", \"Default\", \"Default\", \"Default\", \"Default\", \"Default\", \"Default\", \"Default\", \"Default\", \"Default\", \"Default\", \"Topic1\", \"Topic1\", \"Topic1\", \"Topic1\", \"Topic1\", \"Topic1\", \"Topic1\", \"Topic1\", \"Topic1\", \"Topic1\", \"Topic1\", \"Topic1\", \"Topic1\", \"Topic1\", \"Topic1\", \"Topic1\", \"Topic1\", \"Topic1\", \"Topic1\", \"Topic1\", \"Topic1\", \"Topic1\", \"Topic1\", \"Topic1\", \"Topic1\", \"Topic1\", \"Topic1\", \"Topic1\", \"Topic1\", \"Topic1\", \"Topic1\", \"Topic1\", \"Topic1\", \"Topic1\", \"Topic1\", \"Topic1\", \"Topic1\", \"Topic1\", \"Topic1\", \"Topic1\", \"Topic1\", \"Topic1\", \"Topic1\", \"Topic1\", \"Topic1\", \"Topic1\", \"Topic1\", \"Topic1\", \"Topic1\", \"Topic1\", \"Topic1\", \"Topic1\", \"Topic1\", \"Topic1\", \"Topic1\", \"Topic1\", \"Topic1\", \"Topic1\", \"Topic1\", \"Topic1\", \"Topic1\", \"Topic1\", \"Topic1\", \"Topic1\", \"Topic1\", \"Topic1\", \"Topic1\", \"Topic1\", \"Topic1\", \"Topic1\", \"Topic1\", \"Topic1\", \"Topic1\", \"Topic1\", \"Topic1\", \"Topic2\", \"Topic2\", \"Topic2\", \"Topic2\", \"Topic2\", \"Topic2\", \"Topic2\", \"Topic2\", \"Topic2\", \"Topic2\", \"Topic2\", \"Topic2\", \"Topic2\", \"Topic2\", \"Topic2\", \"Topic2\", \"Topic2\", \"Topic2\", \"Topic2\", \"Topic2\", \"Topic2\", \"Topic2\", \"Topic2\", \"Topic2\", \"Topic2\", \"Topic2\", \"Topic2\", \"Topic2\", \"Topic2\", \"Topic2\", \"Topic2\", \"Topic2\", \"Topic2\", \"Topic2\", \"Topic2\", \"Topic2\", \"Topic2\", \"Topic2\", \"Topic2\", \"Topic2\", \"Topic2\", \"Topic2\", \"Topic2\", \"Topic2\", \"Topic2\", \"Topic2\", \"Topic2\", \"Topic2\", \"Topic2\", \"Topic2\", \"Topic2\", \"Topic2\", \"Topic2\", \"Topic2\", \"Topic2\", \"Topic2\", \"Topic2\", \"Topic2\", \"Topic2\", \"Topic2\", \"Topic2\", \"Topic2\", \"Topic2\", \"Topic2\", \"Topic2\", \"Topic2\", \"Topic2\", \"Topic2\", \"Topic3\", \"Topic3\", \"Topic3\", \"Topic3\", \"Topic3\", \"Topic3\", \"Topic3\", \"Topic3\", \"Topic3\", \"Topic3\", \"Topic3\", \"Topic3\", \"Topic3\", \"Topic3\", \"Topic3\", \"Topic3\", \"Topic3\", \"Topic3\", \"Topic3\", \"Topic3\", \"Topic3\", \"Topic3\", \"Topic3\", \"Topic3\", \"Topic3\", \"Topic3\", \"Topic3\", \"Topic3\", \"Topic3\", \"Topic3\", \"Topic3\", \"Topic3\", \"Topic3\", \"Topic3\", \"Topic3\", \"Topic3\", \"Topic3\", \"Topic3\", \"Topic3\", \"Topic3\", \"Topic3\", \"Topic3\", \"Topic3\", \"Topic3\", \"Topic3\", \"Topic3\", \"Topic3\", \"Topic3\", \"Topic3\", \"Topic3\", \"Topic3\", \"Topic3\", \"Topic3\", \"Topic3\", \"Topic3\", \"Topic3\", \"Topic3\", \"Topic3\", \"Topic3\", \"Topic3\", \"Topic3\", \"Topic3\", \"Topic3\", \"Topic3\", \"Topic3\", \"Topic4\", \"Topic4\", \"Topic4\", \"Topic4\", \"Topic4\", \"Topic4\", \"Topic4\", \"Topic4\", \"Topic4\", \"Topic4\", \"Topic4\", \"Topic4\", \"Topic4\", \"Topic4\", \"Topic4\", \"Topic4\", \"Topic4\", \"Topic4\", \"Topic4\", \"Topic4\", \"Topic4\", \"Topic4\", \"Topic4\", \"Topic4\", \"Topic4\", \"Topic4\", \"Topic4\", \"Topic4\", \"Topic4\", \"Topic4\", \"Topic4\", \"Topic4\", \"Topic4\", \"Topic4\", \"Topic4\", \"Topic4\", \"Topic4\", \"Topic4\", \"Topic4\", \"Topic4\", \"Topic4\", \"Topic4\", \"Topic4\", \"Topic4\", \"Topic4\", \"Topic4\", \"Topic4\", \"Topic4\", \"Topic4\", \"Topic4\", \"Topic4\", \"Topic4\", \"Topic4\", \"Topic4\", \"Topic4\", \"Topic4\", \"Topic4\", \"Topic4\", \"Topic4\", \"Topic4\", \"Topic4\", \"Topic5\", \"Topic5\", \"Topic5\", \"Topic5\", \"Topic5\", \"Topic5\", \"Topic5\", \"Topic5\", \"Topic5\", \"Topic5\", \"Topic5\", \"Topic5\", \"Topic5\", \"Topic5\", \"Topic5\", \"Topic5\", \"Topic5\", \"Topic5\", \"Topic5\", \"Topic5\", \"Topic5\", \"Topic5\", \"Topic5\", \"Topic5\", \"Topic5\", \"Topic5\", \"Topic5\", \"Topic5\", \"Topic5\", \"Topic5\", \"Topic5\", \"Topic5\", \"Topic5\", \"Topic5\", \"Topic5\", \"Topic5\", \"Topic5\", \"Topic5\", \"Topic5\", \"Topic5\", \"Topic5\", \"Topic5\", \"Topic5\", \"Topic5\", \"Topic5\", \"Topic5\", \"Topic5\", \"Topic5\", \"Topic5\", \"Topic5\", \"Topic5\", \"Topic5\", \"Topic5\", \"Topic5\", \"Topic5\", \"Topic5\", \"Topic5\", \"Topic5\", \"Topic5\", \"Topic5\", \"Topic5\", \"Topic5\", \"Topic5\", \"Topic5\", \"Topic5\", \"Topic5\", \"Topic5\", \"Topic5\", \"Topic5\", \"Topic5\", \"Topic5\", \"Topic5\", \"Topic5\", \"Topic5\", \"Topic5\", \"Topic5\", \"Topic6\", \"Topic6\", \"Topic6\", \"Topic6\", \"Topic6\", \"Topic6\", \"Topic6\", \"Topic6\", \"Topic6\", \"Topic6\", \"Topic6\", \"Topic6\", \"Topic6\", \"Topic6\", \"Topic6\", \"Topic6\", \"Topic6\", \"Topic6\", \"Topic6\", \"Topic6\", \"Topic6\", \"Topic6\", \"Topic6\", \"Topic6\", \"Topic6\", \"Topic6\", \"Topic6\", \"Topic6\", \"Topic6\", \"Topic6\", \"Topic6\", \"Topic6\", \"Topic6\", \"Topic6\", \"Topic6\", \"Topic6\", \"Topic6\", \"Topic6\", \"Topic6\", \"Topic6\", \"Topic6\", \"Topic6\", \"Topic6\", \"Topic6\", \"Topic6\", \"Topic6\", \"Topic6\", \"Topic6\", \"Topic6\", \"Topic6\", \"Topic6\", \"Topic6\", \"Topic6\", \"Topic6\", \"Topic6\", \"Topic6\", \"Topic6\", \"Topic6\", \"Topic6\"], \"logprob\": [30.0, 29.0, 28.0, 27.0, 26.0, 25.0, 24.0, 23.0, 22.0, 21.0, 20.0, 19.0, 18.0, 17.0, 16.0, 15.0, 14.0, 13.0, 12.0, 11.0, 10.0, 9.0, 8.0, 7.0, 6.0, 5.0, 4.0, 3.0, 2.0, 1.0, -5.3031, -5.5872, -5.6348, -6.3525, -6.3935, -6.3962, -6.4515, -6.632, -6.8857, -6.9984, -6.9995, -7.0315, -7.0361, -7.02, -7.0712, -7.0858, -7.2217, -7.2384, -7.2701, -7.3168, -7.3679, -7.6025, -7.6243, -7.6776, -7.7146, -7.735, -7.7455, -7.7131, -7.8204, -7.8323, -5.958, -7.2738, -6.1737, -6.5323, -6.6997, -7.2388, -5.6149, -6.2485, -7.0698, -5.8939, -5.8544, -5.6868, -6.2686, -5.3216, -6.8037, -5.0143, -5.6353, -6.4384, -5.3736, -6.4538, -6.3564, -6.6556, -6.7245, -6.2166, -6.0271, -6.4976, -5.7539, -5.8279, -5.9659, -6.0739, -6.1074, -6.1106, -5.9802, -5.8895, -5.741, -6.0403, -6.0143, -6.0454, -5.6069, -5.9231, -5.9414, -6.038, -5.9252, -6.0521, -6.077, -5.7768, -6.0637, -6.1045, -6.259, -6.2644, -6.4458, -6.8428, -6.925, -6.9444, -7.0463, -7.0675, -7.1743, -7.2052, -7.1773, -7.2234, -7.2699, -7.2771, -7.3202, -7.2261, -7.3392, -7.3772, -7.4118, -7.4095, -7.4291, -7.3806, -7.4672, -7.53, -7.5464, -7.5706, -7.5817, -6.0597, -7.0214, -6.7576, -7.1491, -7.1535, -6.9373, -6.4281, -7.1336, -6.4137, -5.6562, -6.0238, -6.0203, -6.0719, -6.582, -6.7129, -6.0241, -6.6112, -6.8011, -5.6357, -6.249, -6.8852, -6.6638, -6.0643, -6.0948, -6.6366, -6.5118, -6.2111, -6.4636, -6.2398, -6.4384, -6.2315, -6.2933, -6.4081, -6.4225, -6.4357, -6.4051, -6.389, -6.4711, -4.3922, -4.7485, -5.1526, -5.5175, -5.8284, -5.8535, -6.0249, -6.2413, -6.3122, -6.3487, -6.5256, -6.6172, -6.7996, -6.8088, -6.8201, -6.8631, -6.8715, -7.0485, -7.0599, -7.1204, -7.1184, -7.1246, -7.1696, -7.1952, -7.2263, -7.2339, -7.2765, -7.3379, -7.3537, -7.3651, -5.5573, -7.2185, -5.6525, -6.1851, -5.3482, -5.5858, -5.6315, -6.3239, -6.3601, -6.634, -6.1483, -6.1555, -6.8751, -6.4821, -5.1955, -5.2311, -5.5282, -6.0156, -5.5653, -6.4975, -5.3904, -5.7931, -6.0153, -5.7896, -6.2313, -6.0822, -5.9683, -5.8911, -6.05, -6.0139, -5.9787, -6.0102, -6.031, -6.1057, -6.0864, -4.8924, -5.7265, -5.7961, -5.8958, -5.9277, -5.98, -6.0515, -6.091, -6.1783, -6.0089, -6.3418, -6.3644, -6.3757, -6.635, -6.6468, -6.7478, -6.8009, -6.8373, -6.914, -6.9743, -7.0453, -7.0804, -7.0904, -7.1261, -7.3052, -7.3602, -7.366, -7.4327, -7.5247, -7.5405, -5.0415, -6.1541, -5.2971, -5.57, -5.9074, -5.6329, -5.9343, -5.7763, -5.9123, -6.4124, -5.3927, -5.6907, -5.6472, -5.2003, -5.7729, -5.3435, -5.7096, -5.6218, -5.6073, -5.2787, -6.0511, -5.1534, -5.7779, -5.501, -5.696, -5.6444, -5.715, -5.8269, -5.7471, -5.8503, -5.8192, -6.5355, -6.624, -7.0074, -7.0187, -7.0925, -7.288, -7.4428, -7.6018, -7.6083, -6.9513, -7.7504, -7.7475, -7.8237, -7.9156, -8.1267, -8.2399, -8.2335, -8.3241, -8.2994, -8.5014, -8.6641, -8.6219, -8.6943, -8.6664, -8.7144, -8.6022, -8.5783, -8.6863, -8.747, -8.7356, -3.9246, -5.0488, -6.4167, -5.9723, -7.5736, -6.4177, -5.9018, -7.4159, -7.0528, -7.2394, -5.3429, -4.4214, -5.7778, -4.9705, -5.7943, -5.3462, -5.1602, -4.8031, -5.2727, -5.0062, -6.0101, -5.1219, -6.5078, -5.3427, -4.619, -5.8254, -5.0883, -5.3766, -5.8965, -4.6556, -5.9647, -5.1935, -5.2038, -5.4919, -4.9017, -5.3611, -5.7458, -5.4323, -5.5688, -5.1728, -5.5184, -5.3637, -5.4191, -5.505, -5.6293, -5.6914, -4.4274, -4.5014, -4.7389, -5.5837, -5.7735, -5.8428, -5.8347, -6.0284, -6.1281, -6.2645, -6.2943, -6.3468, -6.5133, -6.5095, -6.6179, -6.52, -6.8651, -6.8946, -6.9763, -6.9967, -7.044, -7.0861, -7.1652, -7.2406, -7.318, -7.3299, -7.3832, -7.4008, -7.476, -7.4735, -3.0125, -5.7152, -6.147, -4.4455, -3.8568, -5.5811, -6.3814, -4.6529, -5.5292, -5.4888, -5.5813, -5.0594, -5.387, -5.1903, -4.9682, -4.6843, -5.0946, -5.2628, -4.8815, -5.0304, -5.515, -5.0761, -5.369, -5.4769, -5.5053, -5.5477, -5.4442, -5.5359, -5.5251], \"loglift\": [30.0, 29.0, 28.0, 27.0, 26.0, 25.0, 24.0, 23.0, 22.0, 21.0, 20.0, 19.0, 18.0, 17.0, 16.0, 15.0, 14.0, 13.0, 12.0, 11.0, 10.0, 9.0, 8.0, 7.0, 6.0, 5.0, 4.0, 3.0, 2.0, 1.0, 1.5044, 1.5044, 1.5044, 1.5042, 1.5042, 1.5042, 1.5042, 1.5041, 1.504, 1.504, 1.504, 1.5039, 1.5039, 1.5039, 1.5039, 1.5039, 1.5038, 1.5038, 1.5038, 1.5038, 1.5037, 1.5035, 1.5034, 1.5034, 1.5034, 1.5034, 1.5033, 1.5033, 1.5033, 1.5033, 1.4959, 1.5028, 1.4762, 1.4708, 1.4743, 1.4895, 1.4329, 1.4489, 1.483, 1.4332, 1.4239, 1.3964, 1.417, 1.2962, 1.4559, 1.2341, 1.3072, 1.4064, 1.249, 1.4084, 1.3711, 1.427, 1.4388, 1.3106, 1.2536, 1.3755, 1.1614, 1.1457, 1.1934, 1.2171, 1.2304, 1.2198, 1.145, 1.0744, 0.9778, 1.169, 1.1487, 1.1205, 0.5847, 0.9324, 0.8667, 0.9992, 0.7297, 0.9497, 0.862, 1.6052, 1.6051, 1.6051, 1.605, 1.605, 1.605, 1.6048, 1.6048, 1.6047, 1.6047, 1.6047, 1.6046, 1.6046, 1.6046, 1.6045, 1.6045, 1.6045, 1.6045, 1.6045, 1.6045, 1.6044, 1.6044, 1.6044, 1.6044, 1.6044, 1.6043, 1.6043, 1.6043, 1.6042, 1.6042, 1.5994, 1.6006, 1.5896, 1.5917, 1.5736, 1.548, 1.4828, 1.5644, 1.4546, 1.2624, 1.336, 1.3278, 1.3222, 1.4413, 1.4697, 1.2729, 1.416, 1.4568, 1.0172, 1.2362, 1.4807, 1.3845, 1.0182, 0.9248, 1.2942, 1.1912, 0.9294, 1.13, 0.8686, 1.0371, 0.7054, 0.77, 0.9198, 0.9179, 0.8581, 0.7862, 0.6244, 0.8171, 1.6801, 1.6801, 1.68, 1.68, 1.6799, 1.6799, 1.6799, 1.6798, 1.6798, 1.6798, 1.6797, 1.6797, 1.6796, 1.6796, 1.6796, 1.6795, 1.6795, 1.6794, 1.6794, 1.6794, 1.6794, 1.6794, 1.6793, 1.6793, 1.6793, 1.6793, 1.6792, 1.6792, 1.6792, 1.6792, 1.6723, 1.6791, 1.6612, 1.6633, 1.6431, 1.6442, 1.6427, 1.6606, 1.6578, 1.6653, 1.6312, 1.6278, 1.6611, 1.6184, 1.4323, 1.4246, 1.4594, 1.5286, 1.4196, 1.6094, 1.286, 1.3703, 1.4459, 1.3574, 1.5232, 1.3276, 1.153, 1.0134, 1.1716, 0.9754, 0.8184, 0.8074, 0.864, 1.0228, 0.3113, 1.827, 1.8268, 1.8268, 1.8268, 1.8268, 1.8268, 1.8267, 1.8267, 1.8267, 1.8267, 1.8266, 1.8266, 1.8266, 1.8265, 1.8265, 1.8264, 1.8264, 1.8264, 1.8263, 1.8263, 1.8262, 1.8262, 1.8262, 1.8262, 1.826, 1.8259, 1.8259, 1.8259, 1.8257, 1.8257, 1.8161, 1.8236, 1.8123, 1.8089, 1.8029, 1.7878, 1.773, 1.7645, 1.7689, 1.7948, 1.7033, 1.7255, 1.7049, 1.6527, 1.716, 1.6618, 1.6919, 1.6763, 1.6463, 1.4914, 1.7251, 1.2444, 1.5805, 1.3733, 1.3498, 1.1526, 1.2452, 1.4414, 0.9905, 1.3842, 1.1262, 2.0439, 2.0438, 2.0435, 2.0435, 2.0435, 2.0432, 2.043, 2.0428, 2.0427, 2.0426, 2.0424, 2.0424, 2.0424, 2.042, 2.0416, 2.0413, 2.0413, 2.041, 2.0409, 2.0398, 2.0396, 2.0394, 2.0394, 2.0394, 2.0393, 2.0392, 2.0392, 2.0392, 2.0391, 2.0391, 2.0291, 2.031, 2.0338, 2.007, 2.0172, 1.9758, 1.947, 1.9921, 1.9717, 1.9813, 1.8748, 1.8249, 1.8843, 1.8212, 1.8813, 1.8262, 1.8097, 1.7507, 1.7877, 1.759, 1.8562, 1.7572, 1.909, 1.776, 1.6544, 1.8055, 1.7045, 1.7371, 1.8146, 1.5359, 1.8093, 1.6235, 1.5848, 1.6575, 1.4478, 1.5605, 1.7185, 1.582, 1.5994, 1.3537, 1.5652, 1.1811, 1.1714, 1.1961, 1.3927, 1.4806, 2.2988, 2.2988, 2.2988, 2.2986, 2.2985, 2.2985, 2.2985, 2.2984, 2.2984, 2.2983, 2.2983, 2.2982, 2.2981, 2.2981, 2.298, 2.2979, 2.2978, 2.2976, 2.2976, 2.2976, 2.2975, 2.2975, 2.2974, 2.2973, 2.2971, 2.2971, 2.297, 2.297, 2.2968, 2.2968, 2.2689, 2.2897, 2.2867, 2.2693, 2.2429, 2.2773, 2.2865, 2.2251, 2.2014, 2.1861, 2.1784, 2.0643, 2.074, 2.0269, 1.9164, 1.7587, 1.8761, 1.8562, 1.6633, 1.7034, 1.9212, 1.4504, 1.6231, 1.5452, 1.4753, 1.2849, 0.8291, 1.119, 0.8243]}, \"token.table\": {\"Topic\": [4, 3, 2, 3, 1, 3, 4, 6, 3, 4, 6, 2, 4, 5, 3, 3, 1, 2, 3, 6, 1, 2, 4, 2, 3, 4, 5, 6, 2, 2, 5, 4, 6, 1, 2, 3, 2, 4, 5, 6, 1, 3, 4, 5, 6, 1, 5, 2, 4, 1, 1, 1, 2, 3, 4, 5, 6, 1, 3, 4, 6, 1, 2, 3, 4, 6, 1, 3, 4, 5, 6, 3, 1, 2, 3, 4, 1, 2, 3, 4, 5, 4, 2, 1, 2, 3, 6, 5, 1, 2, 1, 2, 1, 4, 3, 4, 5, 1, 2, 4, 5, 1, 2, 3, 4, 5, 6, 5, 2, 3, 4, 3, 2, 5, 6, 4, 1, 6, 4, 1, 2, 3, 4, 5, 6, 1, 4, 5, 6, 3, 4, 6, 2, 3, 4, 6, 6, 1, 1, 3, 4, 5, 1, 2, 3, 4, 5, 6, 2, 3, 3, 4, 2, 6, 5, 1, 2, 3, 4, 5, 6, 3, 5, 6, 3, 2, 3, 4, 5, 6, 1, 2, 5, 6, 5, 2, 3, 5, 1, 2, 3, 4, 5, 6, 1, 2, 3, 4, 5, 6, 1, 3, 4, 4, 4, 3, 3, 4, 3, 5, 2, 3, 5, 6, 5, 1, 3, 5, 6, 2, 3, 5, 1, 5, 6, 1, 3, 6, 6, 1, 2, 4, 6, 1, 5, 6, 1, 3, 6, 2, 3, 5, 3, 4, 4, 3, 4, 3, 6, 2, 3, 4, 5, 6, 3, 1, 2, 3, 5, 1, 4, 5, 4, 4, 2, 5, 1, 2, 3, 4, 5, 6, 1, 2, 3, 4, 6, 1, 3, 4, 5, 6, 1, 2, 2, 5, 2, 1, 2, 6, 4, 3, 4, 5, 6, 4, 1, 2, 5, 1, 2, 5, 2, 1, 4, 4, 2, 4, 5, 1, 2, 4, 5, 6, 1, 1, 2, 3, 4, 1, 2, 4, 2, 1, 5, 2, 3, 5, 5, 6, 6, 1, 2, 3, 4, 5, 6, 3, 5, 5, 1, 2, 1, 2, 3, 4, 5, 6, 5, 1, 2, 5, 1, 2, 5, 6, 1, 2, 4, 5, 6, 1, 6, 6, 3, 3, 2, 4, 1, 3, 4, 5, 6, 1, 2, 4, 2, 4, 3, 4, 5, 6, 4, 5, 6, 6, 1, 4, 6, 1, 3, 5, 6, 4, 4, 3, 1, 3, 4, 5, 6, 2, 6, 5, 2, 3, 6, 3, 5, 5, 2, 3, 1, 1, 2, 3, 4, 6, 1, 2, 3, 4, 5, 6, 6, 6, 3, 4, 5, 3, 3, 4, 5, 1, 1, 2, 5, 6, 1, 3, 4, 5, 6, 1, 2, 5, 6, 1, 2, 1, 2, 4, 5, 4, 1, 2, 5, 1, 2, 3, 5, 5, 2, 4, 1, 3, 5, 6, 1, 2, 3, 5, 5, 1, 1, 3, 4, 5, 6, 1, 3, 4, 5, 6, 6, 5, 2, 3, 5, 2, 3, 6, 6, 1, 1, 2, 3, 4, 4, 1, 2, 1, 2, 3, 4, 5, 1, 2, 5, 2, 2, 2, 2, 6, 3, 2, 3, 4, 5, 6, 2, 1, 5, 1, 1, 2, 3, 5, 4, 5, 5, 1, 4, 5, 5, 6, 3, 4, 1, 2, 3, 4, 5, 6, 1, 1, 1, 2, 3, 4, 5, 3, 3, 4, 5, 6, 5, 3, 4, 2, 3, 1, 5, 2, 5, 1, 2, 3, 5, 2, 4, 5, 5, 6, 1, 2, 4, 4, 1, 2, 4, 5, 6, 1, 2, 3, 4, 6, 1, 2, 5, 2, 1, 2, 3, 4, 1, 1, 2, 3, 1, 1, 2, 3, 4, 5, 6, 2, 3, 5, 3, 4, 5, 6, 3, 1, 3, 3, 2, 3, 4, 5, 6, 1, 3, 5, 6, 1, 2, 3, 4, 3, 2, 4, 3, 6, 4, 1, 2, 3, 4, 5, 6, 6, 2, 3, 5, 3, 2, 1, 3, 4, 6, 5, 4, 5, 6, 4, 3, 4, 5, 3, 4, 5, 3, 4, 5, 6, 3, 1, 4, 6, 2, 5, 6, 2, 4, 5, 2, 3, 4, 5, 1, 3, 4, 5, 6, 4, 4, 2, 5, 2, 4, 1, 3, 6, 1, 2, 4, 3, 4, 3, 4, 1, 2, 3, 4, 1, 2, 3, 4, 5, 6, 5, 1, 2, 3, 6, 6, 1, 5, 1, 2, 1, 2, 5, 6, 2, 1, 3, 4, 6, 1, 2, 4, 5, 1, 3, 1, 2, 3, 4, 1, 4, 6, 1, 1, 2, 3, 4, 5, 6, 3, 5, 1, 2, 4, 5, 6, 3, 4, 4, 1, 2, 3, 2, 3, 4, 5, 2, 1, 5, 2, 1, 2, 3, 4, 6, 1, 2, 3, 5, 1, 3, 4, 3, 3, 1, 3, 4, 5, 6, 1, 3, 4, 3, 4, 1, 5, 1, 3, 5, 6, 1, 3, 5, 1, 1, 3, 5, 6, 1, 3, 5, 6, 3, 5, 6, 2, 1, 3, 4, 2, 1, 2, 3, 4, 1, 5, 2, 1, 2, 3, 4, 6, 1, 2, 3, 4, 5, 6, 1, 2, 3, 5, 5, 6, 4, 5, 2, 3, 4, 5, 6, 4, 5, 2, 3, 6, 3, 4, 3, 5, 6, 4, 6, 6, 6, 6, 3, 6, 4, 6, 6, 6, 2, 3, 3, 3, 3, 3, 4, 1, 2, 3, 4, 5, 6, 1, 2, 5, 6, 2, 1, 2, 3, 4, 5, 2, 3, 4, 5, 6, 5, 2, 4, 1, 2, 3, 6, 1, 2, 3, 4, 5, 6, 2, 1, 2, 3, 6, 1, 1, 2, 3, 4, 5, 6, 1, 1, 4, 1, 1], \"Freq\": [0.9993861776562614, 0.9994283877719944, 0.9952762457554277, 0.004339867350677737, 0.8236282500997397, 0.04138713804497664, 0.09051923759544597, 0.0442914986095364, 0.6742729095528319, 0.1773803944186202, 0.14833383798993005, 0.9989598141585773, 0.9995220708284173, 0.997895236140327, 0.999391644348235, 0.9988751611250591, 0.6504003935051517, 0.3139008678823592, 0.03555154693312058, 0.9993735699126122, 0.023488979892854124, 0.8602413360759764, 0.11642363946892914, 0.1965084257625651, 0.013042594630258746, 0.11491975046439094, 0.6298124029233834, 0.04579399892401959, 0.9998247327805543, 0.9995796439335684, 0.9951148606853337, 0.999286500347405, 0.99920636785217, 0.9994382157085404, 0.9842651110151706, 0.015387729262102051, 0.012912770789873426, 0.13507771012544065, 0.7503332595252922, 0.10178301681429641, 0.1211526096227691, 0.03614216505553196, 0.12641273693132069, 0.5689421569539843, 0.14711388311336246, 0.9993490126599678, 0.9958737519181636, 0.023543405121173446, 0.9760340049000054, 0.9989887874964979, 0.9993928991650434, 0.1740832478656585, 0.5559182505371252, 0.1554647186821656, 0.022187080610329025, 0.02963449228372618, 0.0628375359942885, 0.04713193257779441, 0.005891491572224301, 0.8849426651244503, 0.06196223894925559, 0.6984627629335034, 0.11812647126106461, 0.055236995395338814, 0.10073447019200328, 0.02740979368484067, 0.603371493115847, 0.06480052654008975, 0.2047815266633042, 0.007265962930124479, 0.11981424586817509, 0.9999268026841569, 0.528456075234764, 0.09373551535288653, 0.03466445473427501, 0.34310735808415066, 0.04571848791691523, 0.04489473137787172, 0.2728007071799116, 0.5589188117410269, 0.07757040742659792, 0.9999408587178416, 0.9987135102987252, 0.16751362385330876, 0.555349566722844, 0.26969794413031206, 0.007270030691644503, 0.9995794026134498, 0.2421914050963728, 0.7575310114292563, 0.11702643082696032, 0.8830176144216096, 0.9854269529700643, 0.014479742982417271, 0.08413600849669783, 0.9031426151914907, 0.012729064016105575, 0.07108504668665205, 0.4547156069553668, 0.25670658950916975, 0.21744782377873995, 0.03784189436909893, 0.04574294923737234, 0.04809940419808546, 0.07720855371277695, 0.7907985618157855, 0.00041584499306702126, 0.9981808118736143, 0.0058648905576552, 0.9811961902957149, 0.01290275922684144, 0.999820063556977, 0.0057175223188330035, 0.9738846349745549, 0.02096424850238768, 0.9991298949291945, 0.008975806897774836, 0.9908510310195787, 0.9994662319007235, 0.9994007060334927, 0.04720986172421976, 0.2668912813234544, 0.49617699943965066, 0.10510619644618555, 0.08468015312137986, 0.7630477441612038, 0.0008084560241863365, 0.19140196372611515, 0.044734566671643945, 0.7911763302373905, 0.1293704709523339, 0.07929888762402254, 0.04554156196238812, 0.8593815827605239, 0.060804139484918196, 0.034217714123091617, 0.9996241965548022, 0.9997947204189233, 0.7005062985953037, 0.012611131155700379, 0.031611902096955614, 0.25508114617596633, 0.18298253963382716, 0.22547926216153819, 0.038512654790738114, 0.0783533321604672, 0.4176631010926599, 0.05701011214096948, 0.9989724989742232, 0.9998488711350229, 0.999291089798196, 0.9995868328987524, 0.9989382659842154, 0.9979019011294248, 0.9988625602222455, 0.06168175694925511, 0.0044820653838559075, 0.016861103110696034, 0.873575886482011, 0.024544643768734734, 0.01899541996015123, 0.0074763739178110725, 0.9846735688800301, 0.007777435954769907, 0.9992385255741034, 0.011839601197173729, 0.9633300910589292, 0.011087880486242064, 0.013718902974502893, 0.9989206546239469, 0.46080936095157565, 0.06494832266320781, 0.16692325918114156, 0.30734112811655034, 0.9975287948337641, 0.9993168316302764, 0.013306459594265308, 0.9866894515422079, 0.14584934462456384, 0.036346214066471726, 0.026824202713594147, 0.0032514185107386843, 0.7118284096724334, 0.07594384664368213, 0.039801245163380974, 0.9599123833521294, 0.00883923944030061, 0.20755843722779954, 0.20101085245720648, 0.5825713549635162, 0.1621926414189431, 0.19542587752260182, 0.6422684107859261, 0.9990183717356043, 0.9993017224222428, 0.9988192299540296, 0.9636019413421705, 0.03625545223156902, 0.9996963730882442, 0.9982979856907972, 0.7096864368381333, 0.029762318561035096, 0.2060974714514156, 0.0543886617951659, 0.9958866228398174, 0.016813987958548108, 0.02974782484973896, 0.16248132594558506, 0.7909041258963205, 0.023975033374233925, 0.13195147997819118, 0.8439211747730342, 0.1619644402949852, 0.03941512253332507, 0.798496016838913, 0.045963441613087824, 0.9489730972498064, 0.004690147103376309, 0.999895236392456, 0.0030337953929484417, 0.0057305024089026125, 0.012472269948788039, 0.9785675584143696, 0.03721956574451215, 0.017245259011107815, 0.9455279385080123, 0.011910209626453436, 0.10138947682006515, 0.8865471421947263, 0.8486745995414994, 0.03816054405432503, 0.11289160949404488, 0.15984844046998165, 0.8400676913896952, 0.9998063125447402, 0.11636599363874292, 0.8835952949406709, 0.012117061803937125, 0.9875405370208757, 0.027139072036869768, 0.5134348843721678, 0.2226962131255103, 0.12920275921859053, 0.10751747199295775, 0.9998973218276478, 0.9064162714543238, 0.0435585222158901, 0.028928178876201822, 0.020947991600008216, 0.9996209589373108, 0.680044433442471, 0.3198450741905248, 0.9989076206309212, 0.9992823870040425, 0.0605487663847587, 0.9385058789637599, 0.0036536681960384373, 0.050269434835149535, 0.20271559060089123, 0.6352343118767517, 0.09612927012335612, 0.011968913055987985, 0.7522369061577089, 0.17652916825265474, 0.013716793479091416, 0.03001791036728701, 0.02743358695818283, 0.03776504141747326, 0.10004999378426248, 0.06480262179462078, 0.246184284486659, 0.551260140806943, 0.9161699216633663, 0.08364906434252338, 0.9992676004616127, 0.9978016031622918, 0.9994413250909673, 0.19765987593631734, 0.8020507955519021, 0.9988429727379354, 0.9990275876700492, 0.2543986612996495, 0.558394109580842, 0.07948002456348213, 0.10764223799148762, 0.9989487350631587, 0.9460354158654449, 0.0341456519526806, 0.019511801115817486, 0.7150197312006022, 0.26822045581736875, 0.016730757257156947, 0.9995471752192202, 0.038294172662007894, 0.9614883465534823, 0.9996304278371905, 0.1437462069373285, 0.06567714627308975, 0.790294340295528, 0.01908523610934936, 0.5062686677861759, 0.32138954852843277, 0.008595640690470323, 0.1445233146601112, 0.999282444957616, 0.01900394120324739, 0.13539077282106302, 0.780540113565503, 0.06508603697070739, 0.7095845739517477, 0.29034426148377096, 0.9998113604480637, 0.998834058453506, 0.999925573344373, 0.996179143136066, 0.12350188089952394, 0.08886765777770092, 0.7874587319093559, 0.9986039593202596, 0.9992217988109096, 0.9991823467914664, 0.774492476035498, 0.12958815553243502, 0.01870849410936893, 0.02527115958228892, 0.017141290414343258, 0.03477233198338204, 0.14790133584204965, 0.8519560094572, 0.9984051517229545, 0.9363519417422834, 0.06309402732443121, 0.6811992118792277, 0.02732217685675536, 0.04941603591993408, 0.14032130336308926, 0.10102459220491643, 0.000674621650784083, 0.997018698078677, 0.9991347564327445, 0.12608051825244604, 0.8731370469632012, 0.00045308380060972615, 0.04820811638487486, 0.4217304016075331, 0.5295643461526479, 0.062036459186604435, 0.0028198390539365655, 0.17980620790983745, 0.6790835933421352, 0.07630152734181295, 0.01138446403357928, 0.9880516416511702, 0.9977943306361049, 0.9996364065666934, 0.9987867546906066, 0.0030380676829165868, 0.9964861999966405, 0.009871116106317001, 0.028416849396973184, 0.6205342534107461, 0.19682407266535112, 0.14447724482882157, 0.22294462415227445, 0.7638258886245509, 0.013102347057617598, 0.13992029938978734, 0.8601152929476749, 0.002190765266636935, 0.005988091728807623, 0.521110031424039, 0.4705763792736137, 0.9993451266166196, 0.9986542213457, 0.9978860608436231, 0.9986579067331799, 0.008599305478413324, 0.9683773447079893, 0.022931481275768863, 0.9991287415074876, 0.940331361258373, 0.04551375538510846, 0.014169376676496032, 0.9994685821662421, 0.9997254699074647, 0.9996244299868531, 0.2368600984545517, 0.5182330000480246, 0.1783761235275019, 0.03086654232260962, 0.0355777514139553, 0.9864887013148981, 0.013033707036365291, 0.9962345005787587, 0.034028045817001695, 0.2803999359855529, 0.6854220657424627, 0.9852640979233694, 0.014142546860144059, 0.9938405571377469, 0.01911910919828877, 0.9808103018722139, 0.999907068744984, 0.8209901391063104, 0.04734147179666748, 0.05246675934160584, 0.05368064323382808, 0.025626437724691798, 0.00509496247451998, 0.4787672550275494, 0.14998295784368193, 0.07355852072588222, 0.06305016062218476, 0.2295917465080566, 0.9988347140732713, 0.9991792544146675, 0.7335515806308761, 0.24490967700035673, 0.021530521054976416, 0.999590536477927, 0.8019427565439616, 0.07689282236390906, 0.12119437506531722, 0.9998214684591942, 0.9667742264515222, 0.010127369011982102, 0.005453198698759594, 0.017138624481815867, 0.09461435423054713, 0.015466969784814858, 0.17533260279504967, 0.35175272690309417, 0.36274877573448594, 0.31879216402725413, 0.4066377119607213, 0.23269011551842067, 0.041843986191208785, 0.1377055972262169, 0.8619164205947517, 0.35200646197090746, 0.5028090021535381, 0.043373300505257284, 0.10180677479706224, 0.999367819295348, 0.060173798769881354, 0.2988406635537928, 0.6407833458893826, 0.13157485196645222, 0.6607596732525781, 0.1676425197204139, 0.0398187052003737, 0.9977846114135297, 0.01450290224289355, 0.9854004897561629, 0.12317743898976702, 0.002622227140066001, 0.8028721610135414, 0.0712707889351272, 0.999745960792393, 0.002036378658679965, 0.20305604339408792, 0.7947694993590948, 0.9949911847130459, 0.999730948415751, 0.525951506126191, 0.03467812128304556, 0.15887418355255759, 0.10631935633677922, 0.1740626630292403, 0.05066141069738502, 0.022912195792787197, 0.016038537054951035, 0.22835821806811238, 0.6821469847419255, 0.9988379496307729, 0.9950741654443425, 0.04391989895890215, 0.9522207880664105, 0.003426375096084565, 0.016351754560437595, 0.983441238563461, 0.9995139144553381, 0.9982915277921335, 0.9996259937759693, 0.11949524901286578, 0.030591932740072606, 0.0021543614605684935, 0.8476694226850165, 0.998688066529161, 0.7781274769508253, 0.22186279301490475, 0.13166294812289822, 0.6215836234564331, 0.0902757738602976, 0.046043231367143195, 0.11019335147417415, 0.005798879414630947, 0.9940936139367338, 0.9938792772828459, 0.999760282988649, 0.9997096758633862, 0.9994981178391671, 0.9992522249509748, 0.9993949215141426, 0.9985296156125772, 0.006026129201514038, 0.7029049275766017, 0.06133738651541074, 0.14053794173530954, 0.08910062462238613, 0.9995811748911568, 0.9994910017055149, 0.9995571383419856, 0.9989483305201695, 0.35744543214704677, 0.47359124012619436, 0.11135431425063494, 0.057306264993011787, 0.010358902764392698, 0.9895798876102201, 0.9920872775669642, 0.9084599193704131, 0.08120312128450621, 0.010488736499248719, 0.8039152164814481, 0.19605618138430586, 0.9811642579843336, 0.018587685536915657, 0.06190376321944504, 0.06011807774196105, 0.417850401731254, 0.33630409825948504, 0.12142661246891141, 0.0023809139699786552, 0.9996518775468373, 0.999426035169266, 0.28713817093086424, 0.1657136897918346, 0.0328460638334199, 0.08614145127925928, 0.42816433532532194, 0.9997103039839781, 0.09091400694364603, 0.010909680833237524, 0.7218572151325495, 0.1761458884533142, 0.997517560919438, 0.10504741162289438, 0.8948828280602221, 0.9984126333480595, 0.9991138236647966, 0.9308820953111194, 0.06893202895091999, 0.8848767638292875, 0.11509436831822126, 0.039823256824675586, 0.138044575777409, 0.7707137018683681, 0.05136215102829183, 0.0030433066046963, 0.0334763726516593, 0.9632065403863789, 0.07107106434358222, 0.9288558142413014, 0.11819217950487418, 0.04712959182748877, 0.8347092552571644, 0.9996225863932512, 0.03021827077464665, 0.008922717748419287, 0.16810400238021936, 0.6564740871437017, 0.13645809676582563, 0.03671233576613125, 0.827623743249524, 0.01995235639463655, 0.11572366708889198, 0.9997756193763163, 0.11466968334423815, 0.8730744589583661, 0.012119560028252813, 0.999031096031036, 0.8975124967110404, 0.08305988336626996, 0.01630147243637074, 0.003105042368832522, 0.9998365966054159, 0.8750199347096537, 0.10409159074612981, 0.020700032250650813, 0.9981254663348365, 0.57417651113744, 0.0037209843692855033, 0.20851823946342224, 0.13839199558073392, 0.05481296205524414, 0.02032229924763621, 0.09664314265156877, 0.7241616305535359, 0.1790545896386942, 0.4223913464532315, 0.5093885702119589, 0.05912545904245951, 0.008979606205659532, 0.9998793822594682, 0.02174440210265933, 0.9781027418541669, 0.9991849178433428, 0.030613118107684145, 0.04988804432363342, 0.023385020776703166, 0.38734098050139243, 0.5086596337429555, 0.12629922129253665, 0.014572987072215769, 0.7516950075854553, 0.10732044743104635, 0.12564296813143025, 0.12370751804468164, 0.5903122764583243, 0.16031978218567605, 0.9997276806290012, 0.01773775876740265, 0.9820457971693749, 0.9986113683345085, 0.9981158276571412, 0.9992585506942295, 0.03291984897156379, 0.08400237323778346, 0.04393097086894892, 0.7149283062858923, 0.04915274001616249, 0.07514806903163872, 0.9994204297492648, 0.1379216216284817, 0.8548710204020871, 0.007291010834985818, 0.9988825916163997, 0.9992349911998202, 0.5643661698122914, 0.2764343385980906, 0.09902679124198145, 0.06008367109064043, 0.9972439653401972, 0.22048515899302487, 0.5506165887361307, 0.22883348144306503, 0.9992144511868899, 0.012072034964168855, 0.13812653959002502, 0.8495343674784873, 0.015022531553195297, 0.0777833300421001, 0.9070270717784805, 0.04054835334113706, 0.052429642565456604, 0.6770262539974179, 0.2299582083009289, 0.9999402148897405, 0.011568509767733135, 0.08097956837413195, 0.907089817172511, 0.12944718847955144, 0.7998815517517803, 0.07063919156276598, 0.5086580286782564, 0.16193540990565045, 0.3294604684780949, 0.03458719158221088, 0.10569202264889559, 0.09523542984497137, 0.7646182399546434, 0.09163522835134559, 0.2318903714395672, 0.09948166992271464, 0.1381534176673192, 0.43884026788442565, 0.9988851466143315, 0.9996917012920253, 0.9993219366392017, 0.9960906338212844, 0.09638146492189827, 0.9033867195263768, 0.016271800755534364, 0.09033654902210458, 0.8932657518210589, 0.9225539045141873, 0.0773669668338754, 0.9992091611716298, 0.9647012700753175, 0.03506369947151667, 0.99228973744078, 0.007728393173329748, 0.18403843156443764, 0.6913625316903653, 0.10652413630274511, 0.018102140809616817, 0.00835081734952895, 0.10823098801692124, 0.10471485439606694, 0.43314371041898836, 0.32678066838814596, 0.01889921821209183, 0.9982699677949005, 0.10807881918940658, 0.13832423970710958, 0.09836698691307993, 0.6552711977298682, 0.9989858089198799, 0.9787230559460687, 0.020924423954709056, 0.05551703018874401, 0.9444203885517021, 0.7326394952046267, 0.013905574686024241, 0.16284600716645256, 0.09047000398136254, 0.9993675390092889, 0.8790792166352555, 0.04309882540702031, 0.0584912630523847, 0.019497087684128233, 0.07536406059888626, 0.7171121072291983, 0.03748977504281331, 0.16995364686075368, 0.06784790083332576, 0.9317202178130595, 0.18154853281552857, 0.0030666981894514962, 0.03373368008396646, 0.7815991452182046, 0.9914340107664948, 0.008546844920400818, 0.9968175276563881, 0.9993672761445629, 0.14832957129056057, 0.0315297413319202, 0.10126793767690627, 0.07346585049260225, 0.6192565452727382, 0.026248897956130612, 0.06923524777538219, 0.9303486419816981, 0.24849140989367055, 0.05411539312714649, 0.05307471249008599, 0.6314618843319381, 0.012835061190412951, 0.06035691719613808, 0.9394578696911087, 0.9998582630371855, 0.5430211090140638, 0.4337472423458749, 0.023133186258446663, 0.7533817917959179, 0.05084691508183923, 0.15804916104605027, 0.03749959987285643, 0.998923936531474, 0.3985832959399504, 0.6013757553562203, 0.9993313595276561, 0.15415213546529857, 0.06243322396715642, 0.053583153559440946, 0.08737433147980911, 0.6423542012290938, 0.970101921999377, 0.0004621733787514898, 0.028654749482592366, 0.9988806081601004, 0.211978965279127, 0.442223108391771, 0.3457520987077023, 0.9994936071821763, 0.9995059399915969, 0.760240165439456, 0.048065763884475615, 0.09533043170420998, 0.04606302372262247, 0.05006850404632877, 0.7501412118333609, 0.1735358523171189, 0.07606527447380322, 0.010779242436255712, 0.9892123173685701, 0.9979066397672188, 0.000844252656317444, 0.8119790088599689, 0.1344200544079108, 0.01715585901072683, 0.03645620039779452, 0.9312884573956345, 0.028533093162759867, 0.04022373550027953, 0.9994093695138404, 0.06121652258523292, 0.00952059290206384, 0.5012102786665945, 0.4280707705778424, 0.043402777722217276, 0.007132624310993748, 0.7735103428326624, 0.17603923831388824, 0.012283741746864085, 0.6163004192566433, 0.3712860005423112, 0.99877842174001, 0.9721200238642443, 0.0227092490798571, 0.005198502801413071, 0.9996366084769743, 0.9254046905097726, 0.018558708469658156, 0.015184397838811219, 0.04091351639901911, 0.9524728573473036, 0.0473215901641895, 0.9986847266045965, 0.6980396835479815, 0.12613614323448796, 0.09180897716810613, 0.04825233720651786, 0.035784451418256535, 0.19900376893694854, 0.05738318905426215, 0.494258650548657, 0.16692006471202858, 0.05116432127498251, 0.03137701470454728, 0.9997016932136885, 0.732720672969037, 0.03442555090606257, 0.23264424928097022, 0.9493318918677084, 0.04921285727073405, 0.17122609258235963, 0.8282722494360968, 0.1338546730968195, 0.00210290811559211, 0.11127126855111294, 0.7454352115835857, 0.007405893798389604, 0.06618701586996138, 0.9335246934006727, 0.9989163074864194, 0.23805479171718483, 0.7619173497764037, 0.052453536608508246, 0.9473514429459307, 0.9986037575543861, 0.9986820091185726, 0.9986067297025052, 0.9998783448503507, 0.9995914926738674, 0.9994907168234899, 0.9998123422305754, 0.9992096506127394, 0.029107508878130274, 0.9708589400347585, 0.029562783548199262, 0.9704227067498581, 0.9999080474124082, 0.9981606917352314, 0.9987292024326593, 0.9999084128111975, 0.9993037624876622, 0.999634728169756, 0.9995079731173652, 0.05618378106220016, 0.9435487251752409, 0.039939292847839696, 0.021039448910915554, 0.6014072981060862, 0.1825796244472672, 0.13069420382797545, 0.024248856371902675, 0.21352095307337077, 0.039374928377847986, 0.735318784422088, 0.011684429965784157, 0.9992408429680705, 0.44000742807268794, 0.3749981042146304, 0.07977758896612408, 0.044015221498551214, 0.06124486412462883, 0.5665541039426284, 0.20915384770295814, 0.03125815745890363, 0.1919158932219451, 0.001149196965400869, 0.9957854607521363, 0.9689548467721223, 0.030530915569934203, 0.015389057447394855, 0.16047142140868978, 0.7745150623195437, 0.049508217709053184, 0.10343893162835636, 0.4407397956338662, 0.15515839744253454, 0.11226064653311585, 0.11191469692900763, 0.07662783730996968, 0.9990348013124958, 0.5905182045019132, 0.16143275239944557, 0.22214527050291108, 0.0257731648787358, 0.9987773306236918, 0.14634853403282733, 0.5038910907553038, 0.09181486620216674, 0.08943521524228336, 0.06742344386336219, 0.10113516579504327, 0.9987330568817504, 0.9994720935380105, 0.9980541877821538, 0.9992898390102715, 0.9997386799788213], \"Term\": [\"\", \"accused\", \"actor\", \"actor\", \"actually\", \"actually\", \"actually\", \"actually\", \"administration\", \"administration\", \"administration\", \"african\", \"airline\", \"albany\", \"allegation\", \"ally\", \"always\", \"always\", \"always\", \"antibody\", \"apartment\", \"apartment\", \"apartment\", \"area\", \"area\", \"area\", \"area\", \"area\", \"art\", \"artist\", \"assemblyman\", \"asset\", \"astrazeneca\", \"athlete\", \"audience\", \"audience\", \"average\", \"average\", \"average\", \"average\", \"avoid\", \"avoid\", \"avoid\", \"avoid\", \"avoid\", \"baby\", \"bakersfield\", \"bank\", \"bank\", \"baseball\", \"basketball\", \"became\", \"became\", \"became\", \"became\", \"became\", \"became\", \"benefit\", \"benefit\", \"benefit\", \"benefit\", \"best\", \"best\", \"best\", \"best\", \"best\", \"better\", \"better\", \"better\", \"better\", \"better\", \"biden\", \"big\", \"big\", \"big\", \"big\", \"bill\", \"bill\", \"bill\", \"bill\", \"bill\", \"billion\", \"bird\", \"black\", \"black\", \"black\", \"black\", \"blasio\", \"book\", \"book\", \"born\", \"born\", \"bubble\", \"bubble\", \"budget\", \"budget\", \"budget\", \"building\", \"building\", \"building\", \"building\", \"california\", \"california\", \"california\", \"california\", \"california\", \"california\", \"californian\", \"campaign\", \"campaign\", \"campaign\", \"capitol\", \"caput\", \"caput\", \"caput\", \"cash\", \"cell\", \"cell\", \"ceo\", \"championship\", \"chief\", \"chief\", \"chief\", \"chief\", \"chief\", \"child\", \"child\", \"child\", \"child\", \"china\", \"china\", \"china\", \"chinese\", \"chinese\", \"chinese\", \"chinese\", \"clinical\", \"coach\", \"college\", \"college\", \"college\", \"college\", \"community\", \"community\", \"community\", \"community\", \"community\", \"community\", \"concert\", \"conservative\", \"conspiracy\", \"consumer\", \"cooking\", \"coronaviruses\", \"correctional\", \"cost\", \"cost\", \"cost\", \"cost\", \"cost\", \"cost\", \"county\", \"county\", \"county\", \"coup\", \"court\", \"court\", \"court\", \"court\", \"covax\", \"covid\", \"covid\", \"covid\", \"covid\", \"cowan\", \"cultural\", \"cuomo\", \"cuomo\", \"daily\", \"daily\", \"daily\", \"daily\", \"daily\", \"daily\", \"dance\", \"dance\", \"data\", \"data\", \"data\", \"data\", \"deal\", \"deal\", \"deal\", \"dealbook\", \"debt\", \"democracy\", \"democrat\", \"democrat\", \"democratic\", \"dental\", \"died\", \"died\", \"died\", \"died\", \"discharged\", \"disease\", \"disease\", \"disease\", \"disease\", \"district\", \"district\", \"district\", \"doctor\", \"doctor\", \"doctor\", \"donald\", \"donald\", \"donald\", \"dos\", \"dose\", \"dose\", \"dose\", \"dose\", \"dr\", \"dr\", \"dr\", \"drug\", \"drug\", \"drug\", \"east\", \"east\", \"east\", \"economic\", \"economic\", \"economist\", \"economy\", \"economy\", \"efficacy\", \"efficacy\", \"effort\", \"effort\", \"effort\", \"effort\", \"effort\", \"election\", \"else\", \"else\", \"else\", \"else\", \"emotional\", \"employee\", \"employee\", \"employment\", \"equity\", \"eviction\", \"eviction\", \"executive\", \"executive\", \"executive\", \"executive\", \"executive\", \"executive\", \"experience\", \"experience\", \"experience\", \"experience\", \"experience\", \"expert\", \"expert\", \"expert\", \"expert\", \"expert\", \"fan\", \"fan\", \"farm\", \"farmworkers\", \"fashion\", \"father\", \"father\", \"fda\", \"fed\", \"federal\", \"federal\", \"federal\", \"federal\", \"fee\", \"feeling\", \"feeling\", \"feeling\", \"felt\", \"felt\", \"felt\", \"film\", \"financial\", \"financial\", \"fiscal\", \"flight\", \"flight\", \"flight\", \"food\", \"food\", \"food\", \"food\", \"food\", \"football\", \"former\", \"former\", \"former\", \"former\", \"friend\", \"friend\", \"fund\", \"gallery\", \"game\", \"garcetti\", \"gathering\", \"gathering\", \"gathering\", \"gavin\", \"genetic\", \"genome\", \"got\", \"got\", \"got\", \"got\", \"got\", \"got\", \"gov\", \"gov\", \"gras\", \"guy\", \"guy\", \"hard\", \"hard\", \"hard\", \"hard\", \"hard\", \"hard\", \"hasidic\", \"herd\", \"homeless\", \"homeless\", \"hospital\", \"hospital\", \"hospital\", \"hospital\", \"household\", \"household\", \"household\", \"household\", \"household\", \"immune\", \"immune\", \"immunization\", \"impeachment\", \"inauguration\", \"income\", \"income\", \"increase\", \"increase\", \"increase\", \"increase\", \"increase\", \"indoor\", \"indoor\", \"indoor\", \"industry\", \"industry\", \"infection\", \"infection\", \"infection\", \"infection\", \"inflation\", \"inmate\", \"inoculated\", \"inoculation\", \"insurance\", \"insurance\", \"insurance\", \"interesting\", \"investigation\", \"investigation\", \"investigation\", \"investment\", \"investor\", \"israeli\", \"issue\", \"issue\", \"issue\", \"issue\", \"issue\", \"italian\", \"italian\", \"javits\", \"johnson\", \"johnson\", \"johnson\", \"judge\", \"judge\", \"judith\", \"justice\", \"justice\", \"kid\", \"kind\", \"kind\", \"kind\", \"kind\", \"kind\", \"known\", \"known\", \"known\", \"known\", \"known\", \"known\", \"laboratory\", \"laney\", \"law\", \"law\", \"law\", \"lawsuit\", \"leader\", \"leader\", \"leader\", \"league\", \"learn\", \"learn\", \"learn\", \"learn\", \"level\", \"level\", \"level\", \"level\", \"level\", \"live\", \"live\", \"live\", \"live\", \"lived\", \"lived\", \"living\", \"living\", \"living\", \"living\", \"loan\", \"los\", \"los\", \"los\", \"man\", \"man\", \"man\", \"man\", \"mardi\", \"market\", \"market\", \"mask\", \"mask\", \"mask\", \"mask\", \"maybe\", \"mayor\", \"mayor\", \"mayor\", \"mckinley\", \"me\", \"mean\", \"mean\", \"mean\", \"mean\", \"mean\", \"medical\", \"medical\", \"medical\", \"medical\", \"medical\", \"methodology\", \"mihir\", \"military\", \"military\", \"military\", \"minister\", \"minister\", \"moderna\", \"molecular\", \"mom\", \"money\", \"money\", \"money\", \"money\", \"mortgage\", \"mother\", \"mother\", \"moved\", \"moved\", \"moved\", \"moved\", \"moved\", \"movie\", \"movie\", \"mta\", \"museum\", \"music\", \"musical\", \"musician\", \"mutation\", \"myanmar\", \"nation\", \"nation\", \"nation\", \"nation\", \"nation\", \"native\", \"nba\", \"newsom\", \"nfl\", \"night\", \"night\", \"night\", \"night\", \"nonessential\", \"nonessential\", \"nonresident\", \"now\", \"now\", \"now\", \"nursing\", \"nursing\", \"obama\", \"obama\", \"office\", \"office\", \"office\", \"office\", \"office\", \"office\", \"ok\", \"olympic\", \"open\", \"open\", \"open\", \"open\", \"open\", \"opposition\", \"outbreak\", \"outbreak\", \"outbreak\", \"outbreak\", \"overcrowded\", \"package\", \"package\", \"painting\", \"palestinian\", \"parent\", \"parent\", \"park\", \"park\", \"party\", \"party\", \"party\", \"party\", \"passenger\", \"passenger\", \"passenger\", \"patient\", \"patient\", \"pay\", \"pay\", \"pay\", \"payment\", \"per\", \"per\", \"per\", \"per\", \"per\", \"performance\", \"performance\", \"performance\", \"performance\", \"pfizer\", \"photo\", \"photo\", \"photo\", \"photograph\", \"play\", \"play\", \"play\", \"play\", \"player\", \"playing\", \"playing\", \"playing\", \"playoff\", \"point\", \"point\", \"point\", \"point\", \"point\", \"point\", \"police\", \"police\", \"police\", \"policy\", \"policy\", \"policy\", \"policy\", \"political\", \"politics\", \"politics\", \"poll\", \"population\", \"population\", \"population\", \"population\", \"population\", \"positive\", \"positive\", \"positive\", \"positive\", \"power\", \"power\", \"power\", \"power\", \"presidential\", \"price\", \"price\", \"prince\", \"probable\", \"profit\", \"program\", \"program\", \"program\", \"program\", \"program\", \"program\", \"protein\", \"protest\", \"protest\", \"protest\", \"protester\", \"puzzle\", \"question\", \"question\", \"question\", \"question\", \"raimondo\", \"rate\", \"rate\", \"rate\", \"recession\", \"reopen\", \"reopen\", \"reopen\", \"reopening\", \"reopening\", \"reopening\", \"reported\", \"reported\", \"reported\", \"reported\", \"republican\", \"researcher\", \"researcher\", \"researcher\", \"resident\", \"resident\", \"resident\", \"restaurant\", \"restaurant\", \"restaurant\", \"restriction\", \"restriction\", \"restriction\", \"restriction\", \"result\", \"result\", \"result\", \"result\", \"result\", \"retailer\", \"revenue\", \"riot\", \"rochelle\", \"sale\", \"sale\", \"scientist\", \"scientist\", \"scientist\", \"season\", \"season\", \"sector\", \"senate\", \"senate\", \"senator\", \"senator\", \"series\", \"series\", \"series\", \"series\", \"service\", \"service\", \"service\", \"service\", \"service\", \"service\", \"sheriff\", \"shot\", \"shot\", \"shot\", \"shot\", \"sinovac\", \"sleep\", \"sleep\", \"snow\", \"snow\", \"someone\", \"someone\", \"someone\", \"someone\", \"song\", \"sort\", \"sort\", \"sort\", \"sort\", \"space\", \"space\", \"space\", \"space\", \"speech\", \"speech\", \"spending\", \"spending\", \"spending\", \"spending\", \"sport\", \"sport\", \"sputnik\", \"stadium\", \"staff\", \"staff\", \"staff\", \"staff\", \"staff\", \"staff\", \"statewide\", \"statewide\", \"stay\", \"stay\", \"stay\", \"stay\", \"stay\", \"stimulus\", \"stimulus\", \"stock\", \"story\", \"story\", \"story\", \"street\", \"street\", \"street\", \"street\", \"stringer\", \"student\", \"student\", \"studio\", \"study\", \"study\", \"study\", \"study\", \"study\", \"super\", \"super\", \"super\", \"superintendent\", \"support\", \"support\", \"support\", \"supporter\", \"supreme\", \"sure\", \"sure\", \"sure\", \"sure\", \"sure\", \"talk\", \"talk\", \"talk\", \"tax\", \"tax\", \"teach\", \"teach\", \"team\", \"team\", \"team\", \"team\", \"tell\", \"tell\", \"tell\", \"tennis\", \"test\", \"test\", \"test\", \"test\", \"tested\", \"tested\", \"tested\", \"tested\", \"testing\", \"testing\", \"testing\", \"thanksgiving\", \"that\", \"that\", \"that\", \"theater\", \"thinking\", \"thinking\", \"thinking\", \"thinking\", \"this\", \"this\", \"thompson\", \"thought\", \"thought\", \"thought\", \"thought\", \"thought\", \"top\", \"top\", \"top\", \"top\", \"top\", \"top\", \"tournament\", \"town\", \"town\", \"town\", \"tracey\", \"tracey\", \"transportation\", \"transportation\", \"travel\", \"travel\", \"travel\", \"travel\", \"travel\", \"traveler\", \"traveler\", \"tree\", \"trial\", \"trial\", \"trillion\", \"trillion\", \"troop\", \"uc\", \"undercounted\", \"unemployment\", \"unvaccinated\", \"vaccinate\", \"vaccinated\", \"vaccinating\", \"vaccination\", \"vaccination\", \"vaccine\", \"vaccine\", \"variant\", \"vial\", \"village\", \"vote\", \"voted\", \"voter\", \"voting\", \"wage\", \"wage\", \"washington\", \"washington\", \"washington\", \"washington\", \"washington\", \"washington\", \"wear\", \"wear\", \"wear\", \"wear\", \"wedding\", \"went\", \"went\", \"went\", \"went\", \"went\", \"west\", \"west\", \"west\", \"west\", \"west\", \"wheelchair\", \"wheeler\", \"wheeler\", \"white\", \"white\", \"white\", \"white\", \"whose\", \"whose\", \"whose\", \"whose\", \"whose\", \"whose\", \"wine\", \"woman\", \"woman\", \"woman\", \"woman\", \"wonder\", \"worked\", \"worked\", \"worked\", \"worked\", \"worked\", \"worked\", \"workout\", \"yeah\", \"yellen\", \"yes\", \"you\"]}, \"R\": 30, \"lambda.step\": 0.01, \"plot.opts\": {\"xlab\": \"PC1\", \"ylab\": \"PC2\"}, \"topic.order\": [4, 1, 2, 6, 5, 3]};\n",
       "\n",
       "function LDAvis_load_lib(url, callback){\n",
       "  var s = document.createElement('script');\n",
       "  s.src = url;\n",
       "  s.async = true;\n",
       "  s.onreadystatechange = s.onload = callback;\n",
       "  s.onerror = function(){console.warn(\"failed to load library \" + url);};\n",
       "  document.getElementsByTagName(\"head\")[0].appendChild(s);\n",
       "}\n",
       "\n",
       "if(typeof(LDAvis) !== \"undefined\"){\n",
       "   // already loaded: just create the visualization\n",
       "   !function(LDAvis){\n",
       "       new LDAvis(\"#\" + \"ldavis_el325452264679526842819655\", ldavis_el325452264679526842819655_data);\n",
       "   }(LDAvis);\n",
       "}else if(typeof define === \"function\" && define.amd){\n",
       "   // require.js is available: use it to load d3/LDAvis\n",
       "   require.config({paths: {d3: \"https://d3js.org/d3.v5\"}});\n",
       "   require([\"d3\"], function(d3){\n",
       "      window.d3 = d3;\n",
       "      LDAvis_load_lib(\"https://cdn.jsdelivr.net/gh/bmabey/pyLDAvis@3.3.1/pyLDAvis/js/ldavis.v3.0.0.js\", function(){\n",
       "        new LDAvis(\"#\" + \"ldavis_el325452264679526842819655\", ldavis_el325452264679526842819655_data);\n",
       "      });\n",
       "    });\n",
       "}else{\n",
       "    // require.js not available: dynamically load d3 & LDAvis\n",
       "    LDAvis_load_lib(\"https://d3js.org/d3.v5.js\", function(){\n",
       "         LDAvis_load_lib(\"https://cdn.jsdelivr.net/gh/bmabey/pyLDAvis@3.3.1/pyLDAvis/js/ldavis.v3.0.0.js\", function(){\n",
       "                 new LDAvis(\"#\" + \"ldavis_el325452264679526842819655\", ldavis_el325452264679526842819655_data);\n",
       "            })\n",
       "         });\n",
       "}\n",
       "</script>"
      ],
      "text/plain": [
       "PreparedData(topic_coordinates=              x         y  topics  cluster       Freq\n",
       "topic                                                \n",
       "3      0.143035 -0.037724       1        1  22.212330\n",
       "0      0.219174 -0.137743       2        1  20.082213\n",
       "1      0.042196  0.206988       3        1  18.635151\n",
       "5     -0.035675  0.153787       4        1  16.088833\n",
       "4     -0.126012 -0.108306       5        1  12.944796\n",
       "2     -0.242717 -0.077002       6        1  10.036677, topic_info=          Term          Freq         Total Category  logprob  loglift\n",
       "1930   vaccine  39035.000000  39035.000000  Default  30.0000  30.0000\n",
       "243     county  19929.000000  19929.000000  Default  29.0000  29.0000\n",
       "57          dr  17222.000000  17222.000000  Default  28.0000  28.0000\n",
       "1108     biden  17700.000000  17700.000000  Default  27.0000  27.0000\n",
       "1001      mask  14872.000000  14872.000000  Default  26.0000  26.0000\n",
       "...        ...           ...           ...      ...      ...      ...\n",
       "371     result   3132.049068   7136.993182   Topic6  -5.5053   1.4753\n",
       "844      level   3001.970397   8275.699881   Topic6  -5.5477   1.2849\n",
       "365   reported   3329.241190  14476.543475   Topic6  -5.4442   0.8291\n",
       "5917     covid   3037.636936   9884.781834   Topic6  -5.5359   1.1190\n",
       "716       rate   3070.492005  13415.868957   Topic6  -5.5251   0.8243\n",
       "\n",
       "[434 rows x 6 columns], token_table=       Topic      Freq      Term\n",
       "term                            \n",
       "0          4  0.999386          \n",
       "443        3  0.999428   accused\n",
       "777        2  0.995276     actor\n",
       "777        3  0.004340     actor\n",
       "573        1  0.823628  actually\n",
       "...      ...       ...       ...\n",
       "12180      1  0.998733   workout\n",
       "2791       1  0.999472      yeah\n",
       "15789      4  0.998054    yellen\n",
       "2983       1  0.999290       yes\n",
       "775        1  0.999739       you\n",
       "\n",
       "[923 rows x 3 columns], R=30, lambda_step=0.01, plot_opts={'xlab': 'PC1', 'ylab': 'PC2'}, topic_order=[4, 1, 2, 6, 5, 3])"
      ]
     },
     "execution_count": 61,
     "metadata": {},
     "output_type": "execute_result"
    }
   ],
   "source": [
    "# !pip install pyLDAvis\n",
    "import pyLDAvis.gensim_models\n",
    "# import pickle \n",
    "import pyLDAvis\n",
    "\n",
    "pyLDAvis.enable_notebook()\n",
    "pyLDAvis.gensim_models.prepare(lda_model, corpus, dct)"
   ]
  },
  {
   "cell_type": "markdown",
   "metadata": {},
   "source": [
    "**Plotting**"
   ]
  },
  {
   "cell_type": "code",
   "execution_count": 31,
   "metadata": {
    "collapsed": true,
    "id": "Mkorw09URSwn",
    "jupyter": {
     "outputs_hidden": true
    },
    "tags": []
   },
   "outputs": [
    {
     "name": "stderr",
     "output_type": "stream",
     "text": [
      "/Users/sketcha/opt/anaconda3/lib/python3.8/site-packages/ipykernel/ipkernel.py:287: DeprecationWarning: `should_run_async` will not call `transform_cell` automatically in the future. Please pass the result to `transformed_cell` argument and any exception that happen during thetransform in `preprocessing_exc_tuple` in IPython 7.17 and above.\n",
      "  and should_run_async(code)\n"
     ]
    }
   ],
   "source": [
    "# Labeling the topics\n",
    "topics_name = ['Sports', 'Community',  'U.S Politics', 'Economy', 'Travel Restrictions', 'Vaccination', 'Travel Restrictions']\n",
    "predicted_topics = lda_model[corpus]\n",
    "\n",
    "probs, topics = [], []\n",
    "for k in predicted_topics:\n",
    "  # print(k)\n",
    "  k.sort(key=lambda x:x[1])\n",
    "  topics.append(topics_name[ k[0][0] ] ), probs.append(k[0][1])\n",
    "\n",
    "lda_model.show_topics()\n",
    "nyt_df['Predicted Topic'] = topics\n",
    "nyt_df['Probability'] = probs\n",
    "dates = [row.split('T')[0] for row in nyt_df['pub_date'] ]\n",
    "nyt_df['pub_date'] = dates"
   ]
  },
  {
   "cell_type": "code",
   "execution_count": 47,
   "metadata": {
    "collapsed": true,
    "jupyter": {
     "outputs_hidden": true
    },
    "tags": []
   },
   "outputs": [
    {
     "name": "stderr",
     "output_type": "stream",
     "text": [
      "/Users/sketcha/opt/anaconda3/lib/python3.8/site-packages/ipykernel/ipkernel.py:287: DeprecationWarning: `should_run_async` will not call `transform_cell` automatically in the future. Please pass the result to `transformed_cell` argument and any exception that happen during thetransform in `preprocessing_exc_tuple` in IPython 7.17 and above.\n",
      "  and should_run_async(code)\n"
     ]
    },
    {
     "data": {
      "image/png": "[encoded data removed]",
      "text/plain": [
       "<Figure size 432x288 with 1 Axes>"
      ]
     },
     "metadata": {
      "needs_background": "light"
     },
     "output_type": "display_data"
    }
   ],
   "source": [
    "# Plotting for the topics discussed in the results section only\n",
    "\n",
    "topic_name = ['Economy', 'Travel Restrictions', 'U.S Politics', 'Vaccination' ]\n",
    "\n",
    "dates = [row.split('T')[0] for row in nyt_df['pub_date'] ]\n",
    "nyt_df['pub_date'] = dates\n",
    "\n",
    "nyt_df['new_date'] =  pd.to_datetime(nyt_df['pub_date'], format='%Y-%m-%d')\n",
    "nyt_df = nyt_df.set_index('new_date', drop=True)\n",
    "\n",
    "\n",
    "plt.figure()\n",
    "for i in range(len(topic_name)):\n",
    "    \n",
    "    x = nyt_df[nyt_df['Predicted Topic'] == topic_name[i] ]\n",
    "    curr = x.groupby(x.index.strftime('%Y-%m')).count()\n",
    "    curr = curr.reset_index()\n",
    "    curr['x_axis'] = pd.to_datetime(curr['new_date'], format='%Y-%m')\n",
    "\n",
    "    plt.plot(curr.x_axis, curr['Predicted Topic'], label = topic_name[i])\n",
    "    \n",
    "plt.legend(loc=0)\n",
    "plt.xlabel('Time')\n",
    "plt.ylabel('Frequency')\n",
    "plt.xticks()\n",
    "plt.yticks()\n",
    "plt.savefig('nyt_alltopics_plot')\n",
    "plt.show()"
   ]
  },
  {
   "cell_type": "code",
   "execution_count": 45,
   "metadata": {
    "colab": {
     "base_uri": "https://localhost:8080/",
     "height": 404
    },
    "collapsed": true,
    "id": "FYLUf4Oc5pJR",
    "jupyter": {
     "outputs_hidden": true
    },
    "outputId": "9aafbc51-5305-4705-96fb-a92da9831f8b",
    "tags": []
   },
   "outputs": [
    {
     "name": "stderr",
     "output_type": "stream",
     "text": [
      "/Users/sketcha/opt/anaconda3/lib/python3.8/site-packages/ipykernel/ipkernel.py:287: DeprecationWarning: `should_run_async` will not call `transform_cell` automatically in the future. Please pass the result to `transformed_cell` argument and any exception that happen during thetransform in `preprocessing_exc_tuple` in IPython 7.17 and above.\n",
      "  and should_run_async(code)\n"
     ]
    },
    {
     "ename": "SyntaxError",
     "evalue": "positional argument follows keyword argument (<ipython-input-45-0e06b1a431aa>, line 18)",
     "output_type": "error",
     "traceback": [
      "\u001b[0;36m  File \u001b[0;32m\"<ipython-input-45-0e06b1a431aa>\"\u001b[0;36m, line \u001b[0;32m18\u001b[0m\n\u001b[0;31m    plt.plot(curr.x_axis, curr['Predicted Topic'], label = topic_name[i], color= \"red\", \"blue\")\u001b[0m\n\u001b[0m                                                                                        ^\u001b[0m\n\u001b[0;31mSyntaxError\u001b[0m\u001b[0;31m:\u001b[0m positional argument follows keyword argument\n"
     ]
    }
   ],
   "source": [
    "# Plotting for the topics \"Vaccination\" and \"Travel Restrictions\"\n",
    "\n",
    "topic_name = ['Vaccination', 'Travel Restrictions']\n",
    "\n",
    "dates = [row.split('T')[0] for row in nyt_df['pub_date'] ]\n",
    "nyt_df['pub_date'] = dates\n",
    "\n",
    "nyt_df['new_date'] =  pd.to_datetime(nyt_df['pub_date'], format='%Y-%m-%d')\n",
    "nyt_df = nyt_df.set_index('new_date', drop=True)\n",
    "\n",
    "\n",
    "plt.figure()\n",
    "for i in range(len(topic_name)):\n",
    "    \n",
    "    x = nyt_df[nyt_df['Predicted Topic'] == topic_name[i] ]\n",
    "    curr = x.groupby(x.index.strftime('%Y-%m')).count()\n",
    "    curr = curr.reset_index()\n",
    "    curr['x_axis'] = pd.to_datetime(curr['new_date'], format='%Y-%m')\n",
    "\n",
    "    plt.plot(curr.x_axis, curr['Predicted Topic'], label = topic_name[i], color= \"red\")\n",
    "    \n",
    "plt.legend(loc=0)\n",
    "plt.xlabel('Time')\n",
    "plt.ylabel('Frequency')\n",
    "plt.xticks()\n",
    "plt.yticks()\n",
    "plt.savefig('nyt_vaccine_travel')\n",
    "plt.show()"
   ]
  },
  {
   "cell_type": "code",
   "execution_count": 34,
   "metadata": {
    "collapsed": true,
    "jupyter": {
     "outputs_hidden": true
    },
    "tags": []
   },
   "outputs": [
    {
     "name": "stderr",
     "output_type": "stream",
     "text": [
      "/Users/sketcha/opt/anaconda3/lib/python3.8/site-packages/ipykernel/ipkernel.py:287: DeprecationWarning: `should_run_async` will not call `transform_cell` automatically in the future. Please pass the result to `transformed_cell` argument and any exception that happen during thetransform in `preprocessing_exc_tuple` in IPython 7.17 and above.\n",
      "  and should_run_async(code)\n"
     ]
    },
    {
     "data": {
      "image/png": "[encoded data removed]",
      "text/plain": [
       "<Figure size 432x288 with 1 Axes>"
      ]
     },
     "metadata": {
      "needs_background": "light"
     },
     "output_type": "display_data"
    }
   ],
   "source": [
    "# Plotting for the topic \"Economy\"\n",
    "\n",
    "topic_name = ['Economy']\n",
    "\n",
    "dates = [row.split('T')[0] for row in nyt_df['pub_date'] ]\n",
    "nyt_df['pub_date'] = dates\n",
    "\n",
    "nyt_df['new_date'] =  pd.to_datetime(nyt_df['pub_date'], format='%Y-%m-%d')\n",
    "nyt_df = nyt_df.set_index('new_date', drop=True)\n",
    "\n",
    "\n",
    "plt.figure()\n",
    "for i in range(len(topic_name)):\n",
    "    \n",
    "    x = nyt_df[nyt_df['Predicted Topic'] == topic_name[i] ]\n",
    "    curr = x.groupby(x.index.strftime('%Y-%m')).count()\n",
    "    curr = curr.reset_index()\n",
    "    curr['x_axis'] = pd.to_datetime(curr['new_date'], format='%Y-%m')\n",
    "\n",
    "    plt.plot(curr.x_axis, curr['Predicted Topic'], label = topic_name[i], color= 'blue')\n",
    "    \n",
    "plt.legend(loc=0)\n",
    "plt.xlabel('Time')\n",
    "plt.ylabel('Frequency')\n",
    "plt.xticks()\n",
    "plt.yticks()\n",
    "plt.savefig('nyt_economy_')\n",
    "plt.show()"
   ]
  },
  {
   "cell_type": "code",
   "execution_count": 62,
   "metadata": {
    "tags": []
   },
   "outputs": [
    {
     "name": "stderr",
     "output_type": "stream",
     "text": [
      "/Users/sketcha/opt/anaconda3/lib/python3.8/site-packages/ipykernel/ipkernel.py:287: DeprecationWarning: `should_run_async` will not call `transform_cell` automatically in the future. Please pass the result to `transformed_cell` argument and any exception that happen during thetransform in `preprocessing_exc_tuple` in IPython 7.17 and above.\n",
      "  and should_run_async(code)\n"
     ]
    },
    {
     "data": {
      "image/png": "[encoded data removed]",
      "text/plain": [
       "<Figure size 432x288 with 1 Axes>"
      ]
     },
     "metadata": {
      "needs_background": "light"
     },
     "output_type": "display_data"
    }
   ],
   "source": [
    "#Plotting for the topic \"U.S Politics\"\n",
    "\n",
    "topic_name = ['U.S Politics']\n",
    "\n",
    "dates = [row.split('T')[0] for row in nyt_df['pub_date'] ]\n",
    "nyt_df['pub_date'] = dates\n",
    "\n",
    "nyt_df['new_date'] =  pd.to_datetime(nyt_df['pub_date'], format='%Y-%m-%d')\n",
    "nyt_df = nyt_df.set_index('new_date', drop=True)\n",
    "\n",
    "\n",
    "plt.figure()\n",
    "for i in range(len(topic_name)):\n",
    "    \n",
    "    x = nyt_df[nyt_df['Predicted Topic'] == topic_name[i] ]\n",
    "    curr = x.groupby(x.index.strftime('%Y-%m')).count()\n",
    "    curr = curr.reset_index()\n",
    "    curr['x_axis'] = pd.to_datetime(curr['new_date'], format='%Y-%m')\n",
    "\n",
    "    plt.plot(curr.x_axis, curr['Predicted Topic'], label = topic_name[i], color= 'blue')\n",
    "    \n",
    "plt.legend(loc=0)\n",
    "plt.xlabel('Time')\n",
    "plt.ylabel('Frequency')\n",
    "plt.xticks()\n",
    "plt.yticks()\n",
    "plt.savefig('us_politics_plot')\n",
    "plt.show()"
   ]
  },
  {
   "cell_type": "code",
   "execution_count": 12,
   "metadata": {
    "id": "sPa2iptm6QRH"
   },
   "outputs": [],
   "source": [
    "#saving as .csv\n",
    "\n",
    "import pandas as pd\n",
    "nyt_df.reset_index(drop=True, inplace=True)\n",
    "nyt_df.to_csv('nyt_topics.csv', index=True, columns=['pub_date', 'content', 'Predicted Topic'], sep=',')"
   ]
  },
  {
   "cell_type": "code",
   "execution_count": 15,
   "metadata": {
    "colab": {
     "base_uri": "https://localhost:8080/",
     "height": 266
    },
    "collapsed": true,
    "id": "0MzDX7FU7Thu",
    "jupyter": {
     "outputs_hidden": true
    },
    "outputId": "2a336e3d-4c06-41c7-d0f1-3f613414663a",
    "tags": []
   },
   "outputs": [
    {
     "data": {
      "text/html": [
       "<div>\n",
       "<style scoped>\n",
       "    .dataframe tbody tr th:only-of-type {\n",
       "        vertical-align: middle;\n",
       "    }\n",
       "\n",
       "    .dataframe tbody tr th {\n",
       "        vertical-align: top;\n",
       "    }\n",
       "\n",
       "    .dataframe thead th {\n",
       "        text-align: right;\n",
       "    }\n",
       "</style>\n",
       "<table border=\"1\" class=\"dataframe\">\n",
       "  <thead>\n",
       "    <tr style=\"text-align: right;\">\n",
       "      <th></th>\n",
       "      <th>content</th>\n",
       "      <th>keywords</th>\n",
       "    </tr>\n",
       "  </thead>\n",
       "  <tbody>\n",
       "    <tr>\n",
       "      <th>15194</th>\n",
       "      <td>Advertisement transcript Hello? Hi. Hi, how ar...</td>\n",
       "      <td>[{'name': 'subject', 'value': 'Love (Emotion)'...</td>\n",
       "    </tr>\n",
       "    <tr>\n",
       "      <th>8233</th>\n",
       "      <td>Advertisement transcript Hi, Savannah. Good mo...</td>\n",
       "      <td>[{'name': 'subject', 'value': 'Coronavirus (20...</td>\n",
       "    </tr>\n",
       "    <tr>\n",
       "      <th>5507</th>\n",
       "      <td>Advertisement Supported by Five housebound pho...</td>\n",
       "      <td>[{'name': 'subject', 'value': 'Photography', '...</td>\n",
       "    </tr>\n",
       "    <tr>\n",
       "      <th>8553</th>\n",
       "      <td>The rapper and actor has a real name: Colson B...</td>\n",
       "      <td>[{'name': 'subject', 'value': 'Rap and Hip-Hop...</td>\n",
       "    </tr>\n",
       "    <tr>\n",
       "      <th>9174</th>\n",
       "      <td>Advertisement Supported by Frank Miller and To...</td>\n",
       "      <td>[{'name': 'creative_works', 'value': 'Cursed (...</td>\n",
       "    </tr>\n",
       "    <tr>\n",
       "      <th>13562</th>\n",
       "      <td>Advertisement Supported by Teens competing for...</td>\n",
       "      <td>[{'name': 'subject', 'value': 'Music', 'rank':...</td>\n",
       "    </tr>\n",
       "    <tr>\n",
       "      <th>16296</th>\n",
       "      <td>Advertisement Supported by Vows LaMarr Coles p...</td>\n",
       "      <td>[{'name': 'subject', 'value': 'Weddings and En...</td>\n",
       "    </tr>\n",
       "  </tbody>\n",
       "</table>\n",
       "</div>"
      ],
      "text/plain": [
       "                                                 content                                           keywords\n",
       "15194  Advertisement transcript Hello? Hi. Hi, how ar...  [{'name': 'subject', 'value': 'Love (Emotion)'...\n",
       "8233   Advertisement transcript Hi, Savannah. Good mo...  [{'name': 'subject', 'value': 'Coronavirus (20...\n",
       "5507   Advertisement Supported by Five housebound pho...  [{'name': 'subject', 'value': 'Photography', '...\n",
       "8553   The rapper and actor has a real name: Colson B...  [{'name': 'subject', 'value': 'Rap and Hip-Hop...\n",
       "9174   Advertisement Supported by Frank Miller and To...  [{'name': 'creative_works', 'value': 'Cursed (...\n",
       "13562  Advertisement Supported by Teens competing for...  [{'name': 'subject', 'value': 'Music', 'rank':...\n",
       "16296  Advertisement Supported by Vows LaMarr Coles p...  [{'name': 'subject', 'value': 'Weddings and En..."
      ]
     },
     "execution_count": 15,
     "metadata": {
      "tags": []
     },
     "output_type": "execute_result"
    }
   ],
   "source": [
    "# viewig top documents for a given topic\n",
    "\n",
    "#topic_name = ['']\n",
    "\n",
    "x = nyt_df[ nyt_df['Predicted Topic'] == topics_name[0] ]\n",
    "x = x.sort_values('Probability', ascending=False)\n",
    "\n",
    "x = x[['content', 'keywords']]\n",
    "x.head(7)"
   ]
  }
 ],
 "metadata": {
  "colab": {
   "collapsed_sections": [],
   "name": "cemkoyunch.ipynb",
   "provenance": []
  },
  "kernelspec": {
   "display_name": "Python 3",
   "language": "python",
   "name": "python3"
  },
  "language_info": {
   "codemirror_mode": {
    "name": "ipython",
    "version": 3
   },
   "file_extension": ".py",
   "mimetype": "text/x-python",
   "name": "python",
   "nbconvert_exporter": "python",
   "pygments_lexer": "ipython3",
   "version": "3.8.8"
  }
 },
 "nbformat": 4,
 "nbformat_minor": 4
}
